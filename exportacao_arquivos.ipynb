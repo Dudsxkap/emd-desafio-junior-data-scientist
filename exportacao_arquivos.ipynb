{
 "cells": [
  {
   "cell_type": "code",
   "execution_count": 1,
   "id": "initial_id",
   "metadata": {
    "collapsed": true,
    "ExecuteTime": {
     "end_time": "2024-02-25T14:25:18.616345400Z",
     "start_time": "2024-02-25T14:25:13.321188800Z"
    }
   },
   "outputs": [],
   "source": [
    "import basedosdados as bd\n",
    "from dotenv import load_dotenv\n",
    "import os"
   ]
  },
  {
   "cell_type": "code",
   "execution_count": 2,
   "outputs": [
    {
     "data": {
      "text/plain": "True"
     },
     "execution_count": 2,
     "metadata": {},
     "output_type": "execute_result"
    }
   ],
   "source": [
    "load_dotenv()"
   ],
   "metadata": {
    "collapsed": false,
    "ExecuteTime": {
     "end_time": "2024-02-25T14:25:18.631858200Z",
     "start_time": "2024-02-25T14:25:18.618858100Z"
    }
   },
   "id": "5c3c8ea03825e73c"
  },
  {
   "cell_type": "code",
   "execution_count": 3,
   "outputs": [],
   "source": [
    "def generate_df(query):\n",
    "    return bd.read_sql(query, billing_project_id=os.getenv(\"ID_PROJETO\"))"
   ],
   "metadata": {
    "collapsed": false,
    "ExecuteTime": {
     "end_time": "2024-02-25T14:25:18.677902400Z",
     "start_time": "2024-02-25T14:25:18.633859600Z"
    }
   },
   "id": "4ee911e29f6c4d07"
  },
  {
   "cell_type": "code",
   "execution_count": 4,
   "outputs": [
    {
     "name": "stderr",
     "output_type": "stream",
     "text": [
      "Downloading: 100%|██████████| 1617598/1617598 [10:55<00:00, 2468.87rows/s]\n"
     ]
    }
   ],
   "source": [
    "query_chamados = \"\"\"\n",
    "    SELECT * FROM datario.administracao_servicos_publicos.chamado_1746\n",
    "    WHERE data_particao BETWEEN '2022-01-01' AND '2023-12-01';\n",
    "\"\"\"\n",
    "\n",
    "df_chamados = generate_df(query_chamados)"
   ],
   "metadata": {
    "collapsed": false,
    "ExecuteTime": {
     "end_time": "2024-02-25T14:36:38.939131Z",
     "start_time": "2024-02-25T14:25:21.185419300Z"
    }
   },
   "id": "5be2ac5102e3f783"
  },
  {
   "cell_type": "code",
   "execution_count": 5,
   "outputs": [
    {
     "name": "stderr",
     "output_type": "stream",
     "text": [
      "Downloading: 100%|██████████| 164/164 [00:11<00:00, 14.20rows/s]\n"
     ]
    }
   ],
   "source": [
    "query_bairros = \"\"\"\n",
    "    SELECT * FROM datario.dados_mestres.bairro;\n",
    "\"\"\"\n",
    "\n",
    "df_bairros = generate_df(query_bairros)"
   ],
   "metadata": {
    "collapsed": false,
    "ExecuteTime": {
     "end_time": "2024-02-25T14:36:52.879925Z",
     "start_time": "2024-02-25T14:36:38.940130900Z"
    }
   },
   "id": "c3a0b8316841b512"
  },
  {
   "cell_type": "code",
   "execution_count": 6,
   "outputs": [
    {
     "name": "stderr",
     "output_type": "stream",
     "text": [
      "Downloading: 100%|██████████| 4/4 [00:00<00:00, 10.60rows/s]\n"
     ]
    }
   ],
   "source": [
    "query_eventos = \"\"\"\n",
    "    SELECT * FROM datario.turismo_fluxo_visitantes.rede_hoteleira_ocupacao_eventos;\n",
    "\"\"\"\n",
    "\n",
    "df_eventos = generate_df(query_eventos)"
   ],
   "metadata": {
    "collapsed": false,
    "ExecuteTime": {
     "end_time": "2024-02-25T14:36:55.158241600Z",
     "start_time": "2024-02-25T14:36:52.881922500Z"
    }
   },
   "id": "d3aa5ab7000c0dba"
  },
  {
   "cell_type": "code",
   "execution_count": 10,
   "outputs": [],
   "source": [
    "if not os.path.exists(\"datasets_exportados\"):\n",
    "    os.makedirs(\"datasets_exportados\")"
   ],
   "metadata": {
    "collapsed": false,
    "ExecuteTime": {
     "end_time": "2024-02-25T14:40:02.512789600Z",
     "start_time": "2024-02-25T14:40:02.506791Z"
    }
   },
   "id": "c068e7aa8ebeae3d"
  },
  {
   "cell_type": "code",
   "execution_count": 11,
   "outputs": [],
   "source": [
    "df_chamados.to_csv(os.path.join(\"datasets_exportados\", \"df_chamados.csv\"), index=False)\n",
    "df_eventos.to_csv(os.path.join(\"datasets_exportados\", \"df_eventos.csv\"), index=False)\n",
    "df_bairros.to_csv(os.path.join(\"datasets_exportados\", \"df_bairros.csv\"), index=False)"
   ],
   "metadata": {
    "collapsed": false,
    "ExecuteTime": {
     "end_time": "2024-02-25T14:40:25.189633500Z",
     "start_time": "2024-02-25T14:40:04.202292500Z"
    }
   },
   "id": "925cb6d60ed3b0aa"
  }
 ],
 "metadata": {
  "kernelspec": {
   "display_name": "Python 3",
   "language": "python",
   "name": "python3"
  },
  "language_info": {
   "codemirror_mode": {
    "name": "ipython",
    "version": 2
   },
   "file_extension": ".py",
   "mimetype": "text/x-python",
   "name": "python",
   "nbconvert_exporter": "python",
   "pygments_lexer": "ipython2",
   "version": "2.7.6"
  }
 },
 "nbformat": 4,
 "nbformat_minor": 5
}
