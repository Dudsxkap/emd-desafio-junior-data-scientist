{
 "cells": [
  {
   "cell_type": "markdown",
   "source": [
    "## Importação das bibliotecas"
   ],
   "metadata": {
    "collapsed": false
   },
   "id": "7f9a6ebed9a75d24"
  },
  {
   "cell_type": "code",
   "execution_count": 2,
   "outputs": [],
   "source": [
    "import basedosdados as bd\n",
    "import pandas as pd"
   ],
   "metadata": {
    "collapsed": false,
    "ExecuteTime": {
     "end_time": "2024-02-19T23:38:11.699850100Z",
     "start_time": "2024-02-19T23:38:06.564130400Z"
    }
   },
   "id": "initial_id"
  },
  {
   "cell_type": "markdown",
   "source": [
    "## Funções auxiliares"
   ],
   "metadata": {
    "collapsed": false
   },
   "id": "86fa0048549f855f"
  },
  {
   "cell_type": "code",
   "execution_count": 3,
   "outputs": [],
   "source": [
    "def generate_df(query):\n",
    "    return bd.read_sql(query, billing_project_id=\"datario-eduardo-amorim\")"
   ],
   "metadata": {
    "collapsed": false,
    "ExecuteTime": {
     "end_time": "2024-02-19T23:38:11.715358900Z",
     "start_time": "2024-02-19T23:38:11.701848Z"
    }
   },
   "id": "fc66a6a8a52aea43"
  },
  {
   "cell_type": "markdown",
   "source": [
    "## Carregando dataframes"
   ],
   "metadata": {
    "collapsed": false
   },
   "id": "7a68201b24b716c4"
  },
  {
   "cell_type": "code",
   "execution_count": 7,
   "outputs": [
    {
     "name": "stderr",
     "output_type": "stream",
     "text": [
      "Downloading: 100%|██████████| 73/73 [00:00<00:00, 198.46rows/s]\n"
     ]
    }
   ],
   "source": [
    "#Carrega a tabela de Chamados abertos na data 01/04/2023 em um dataframe\n",
    "query_chamados = \"\"\"\n",
    "    SELECT * FROM datario.administracao_servicos_publicos.chamado_1746\n",
    "    WHERE DATE(data_inicio) = '2023-04-01';\n",
    "\"\"\"\n",
    "\n",
    "df_chamados = generate_df(query_chamados)"
   ],
   "metadata": {
    "collapsed": false,
    "ExecuteTime": {
     "end_time": "2024-02-19T23:50:48.753393200Z",
     "start_time": "2024-02-19T23:50:45.996570200Z"
    }
   },
   "id": "ab83a3a2588a4cb1"
  },
  {
   "cell_type": "code",
   "execution_count": 8,
   "outputs": [
    {
     "name": "stderr",
     "output_type": "stream",
     "text": [
      "Downloading: 100%|██████████| 164/164 [00:11<00:00, 14.63rows/s]\n"
     ]
    }
   ],
   "source": [
    "#Carrega a tabela de Bairros em um dataframe \n",
    "query_bairros = \"\"\"\n",
    "    SELECT * FROM datario.dados_mestres.bairro;\n",
    "\"\"\"\n",
    "\n",
    "df_bairros = generate_df(query_bairros)"
   ],
   "metadata": {
    "collapsed": false,
    "ExecuteTime": {
     "end_time": "2024-02-19T23:51:53.984021200Z",
     "start_time": "2024-02-19T23:51:39.771063400Z"
    }
   },
   "id": "df20050ae66ad3b7"
  },
  {
   "cell_type": "markdown",
   "source": [
    "## Questões referentes aos chamados nos bairros do RJ"
   ],
   "metadata": {
    "collapsed": false
   },
   "id": "74916227ad561656"
  },
  {
   "cell_type": "markdown",
   "source": [
    "Como o dataframe \"df_chamados\" já é fruto de uma consulta da tabela de chamados filtrada pela data desejada em todas as questões (01/04/2023), não será necessário aplicar uma filtragem por esta data em cada etapa."
   ],
   "metadata": {
    "collapsed": false
   },
   "id": "992147946e07131d"
  },
  {
   "cell_type": "markdown",
   "source": [
    "### 1. Quantos chamados foram abertos no dia 01/04/2023?"
   ],
   "metadata": {
    "collapsed": false
   },
   "id": "280a36e7efba316e"
  },
  {
   "cell_type": "markdown",
   "source": [
    "Tendo em vista que o dataframe \"df_chamados\" já está filtrado pela data em questão, apenas se faz necessário contarmos quantas linhas ele possui. Deste modo, ao utilizarmos a função len no dataframe, conseguimos a resposta desejada."
   ],
   "metadata": {
    "collapsed": false
   },
   "id": "7fa014570d7bd9ee"
  },
  {
   "cell_type": "code",
   "execution_count": 15,
   "outputs": [
    {
     "data": {
      "text/plain": "73"
     },
     "execution_count": 15,
     "metadata": {},
     "output_type": "execute_result"
    }
   ],
   "source": [
    "len(df_chamados)"
   ],
   "metadata": {
    "collapsed": false,
    "ExecuteTime": {
     "start_time": "2024-02-19T23:55:56.583909400Z"
    }
   },
   "id": "544c407e18564285"
  },
  {
   "cell_type": "markdown",
   "source": [
    "Resposta: 73 chamados"
   ],
   "metadata": {
    "collapsed": false
   },
   "id": "8d7fc3b85fb491ee"
  },
  {
   "cell_type": "markdown",
   "source": [
    "### 2. Qual o tipo de chamado que teve mais teve chamados abertos no dia 01/04/2023?\n"
   ],
   "metadata": {
    "collapsed": false
   },
   "id": "8b0c08bf0f253f98"
  },
  {
   "cell_type": "markdown",
   "source": [
    "Para conseguirmos saber o tipo de chamado que teve mais chamados aberto no dia em questão, basta realizarmos a contagem de valores agregando a coluna tipo, e após isso selecionarmos o primeiro valor. Assim, filtrando o dataframe \"df_chamados\" pela coluna \"tipo\" e utilizando a função \"value_counts\", agregamos o dataframe pela coluna desejada e fazemos a contagem de linhas referentes a cada tipo. Por fim, a função \"head\" com o parâmetro \"1\", nos retorna o maior valor dessa filtragem."
   ],
   "metadata": {
    "collapsed": false
   },
   "id": "fb3335e640bc8208"
  },
  {
   "cell_type": "code",
   "execution_count": 23,
   "outputs": [
    {
     "data": {
      "text/plain": "Poluição sonora    24\nName: tipo, dtype: int64"
     },
     "execution_count": 23,
     "metadata": {},
     "output_type": "execute_result"
    }
   ],
   "source": [
    "df_chamados['tipo'].value_counts().head(1)"
   ],
   "metadata": {
    "collapsed": false,
    "ExecuteTime": {
     "end_time": "2024-02-20T00:02:56.374282200Z",
     "start_time": "2024-02-20T00:02:56.358778100Z"
    }
   },
   "id": "4b212097a89edc14"
  },
  {
   "cell_type": "markdown",
   "source": [
    "Resposta: O tipo de chamado com mais chamados abertos no dia 01/04/2023 foi Poluição Sonora, com 24 chamados abertos."
   ],
   "metadata": {
    "collapsed": false
   },
   "id": "a3e3b452ccbd4288"
  },
  {
   "cell_type": "markdown",
   "source": [
    "### 3. Quais os nomes dos 3 bairros que mais tiveram chamados abertos nesse dia?\n"
   ],
   "metadata": {
    "collapsed": false
   },
   "id": "ca30513e1e05e0e3"
  },
  {
   "cell_type": "markdown",
   "source": [
    "A fim de encontrarmos a resposta dessa questão, precisamos relacionar as tabelas de chamados e bairros, a fim de contarmos quais bairros possuem mais chamados abertos na data em questão. Assim, ao fazermos o \"merge\" dos dataframes \"df_chamados\" e \"df_bairros\", utilizando a coluna \"id_bairro\" presente em ambos, conseguimos um dataframe que contem os dados dos chamados abertos no dia 01/04/2023 com as informações referentes ao bairro do chamado. Logo, basta filtrar da mesma maneira mostrada na questão anterior, porém mudando o tipo para \"nome\", que é a coluna referente ao nome do bairro, e colocar o parâmentro da função \"head\" para \"3\", pegando assim os 3 bairros com mais chamados abertos no dia em questão.  "
   ],
   "metadata": {
    "collapsed": false
   },
   "id": "e60b82b0984e8790"
  },
  {
   "cell_type": "code",
   "execution_count": 28,
   "outputs": [],
   "source": [
    "df_chamados_bairro = df_chamados.merge(df_bairros, on=\"id_bairro\")"
   ],
   "metadata": {
    "collapsed": false,
    "ExecuteTime": {
     "start_time": "2024-02-20T00:20:38.141987Z"
    }
   },
   "id": "c39a492523e93a84"
  },
  {
   "cell_type": "code",
   "execution_count": 29,
   "outputs": [
    {
     "data": {
      "text/plain": "Engenho de Dentro    8\nLeblon               6\nCampo Grande         6\nName: nome, dtype: int64"
     },
     "execution_count": 29,
     "metadata": {},
     "output_type": "execute_result"
    }
   ],
   "source": [
    "df_chamados_bairro['nome'].value_counts().head(3)"
   ],
   "metadata": {
    "collapsed": false,
    "ExecuteTime": {
     "end_time": "2024-02-20T00:21:14.929611700Z",
     "start_time": "2024-02-20T00:21:14.922606500Z"
    }
   },
   "id": "c1c8a48df9e82b80"
  },
  {
   "cell_type": "markdown",
   "source": [
    "Respostas: Os 3 bairros com mais chamados abertos na data em questão foram: Engenho de Dentro, com 8 chamados; Leblon, com 6 chamados; e Campo Grande, também com 6 chamados."
   ],
   "metadata": {
    "collapsed": false
   },
   "id": "8bb49b769554f0a6"
  },
  {
   "cell_type": "markdown",
   "source": [
    "### 4. Qual o nome da subprefeitura com mais chamados abertos nesse dia?"
   ],
   "metadata": {
    "collapsed": false
   },
   "id": "c46375a7af7ce6bb"
  },
  {
   "cell_type": "markdown",
   "source": [
    "Para a resposta em questão, utilizaremos a mesma relação criada na resposta anterior, porém buscamos o nome da subprefeitura com mais chamados abertos no dia em questão, não os 3 bairros com mais chamados abertos nesse dia. Assim, basta mudarmos a filtragem da coluna \"nome\" para a coluna \"subprefeitura\", e mudarmos o parâmetro da função \"head\" para \"1\", conseguindo assim a subprefeitura com mais chamados abertos nesse dia."
   ],
   "metadata": {
    "collapsed": false
   },
   "id": "fcd6c9a7b29845e3"
  },
  {
   "cell_type": "code",
   "execution_count": 32,
   "outputs": [
    {
     "data": {
      "text/plain": "Zona Norte    25\nName: subprefeitura, dtype: int64"
     },
     "execution_count": 32,
     "metadata": {},
     "output_type": "execute_result"
    }
   ],
   "source": [
    "df_chamados_bairro['subprefeitura'].value_counts().head(1)"
   ],
   "metadata": {
    "collapsed": false,
    "ExecuteTime": {
     "end_time": "2024-02-20T00:30:12.790852600Z",
     "start_time": "2024-02-20T00:30:12.767820800Z"
    }
   },
   "id": "b109bfa13e8f9663"
  },
  {
   "cell_type": "markdown",
   "source": [
    "Resposta: A subprefeitura com mais chamados abertos nesse dia foi a Zona Norte, com 25 chamados."
   ],
   "metadata": {
    "collapsed": false
   },
   "id": "ffceac4c3032f1e2"
  },
  {
   "cell_type": "markdown",
   "source": [
    "###  5. Existe algum chamado aberto nesse dia que não foi associado a um bairro ou subprefeitura na tabela de bairros? Se sim, por que isso acontece?"
   ],
   "metadata": {
    "collapsed": false
   },
   "id": "8d11214dbb33a7f8"
  },
  {
   "cell_type": "markdown",
   "source": [
    "Para essa questão, é necessário apenas contar quais registros de chamados no dataframe \"df_chamados\" não possuem valor na coluna \"id_bairro\", visto que isso impossibilita-os de terem um bairro associado. Assim, precisamos apenas utilizar a função \"loc\", filtrando a coluna \"id_bairro\" com a função \"isna\", que retorna os registros com valor nulo na coluna em questão. A partir disto, podemos inferir o motivo do chamado não ter bairro associado analisando as suas colunas. "
   ],
   "metadata": {
    "collapsed": false
   },
   "id": "bba4bce27f4449ab"
  },
  {
   "cell_type": "code",
   "execution_count": 39,
   "outputs": [
    {
     "data": {
      "text/plain": "  id_chamado         data_inicio            data_fim id_bairro  \\\n0   18516246 2023-04-01 00:55:38 2023-04-01 00:55:38      None   \n\n  id_territorialidade id_logradouro  numero_logradouro  \\\n0                None          None               <NA>   \n\n  id_unidade_organizacional  \\\n0                      1706   \n\n                         nome_unidade_organizacional  \\\n0  TR/SUBOP/CFT - Coordenadoria de Fiscalização e...   \n\n                id_unidade_organizacional_mae  ... tempo_prazo prazo_unidade  \\\n0  SMTR - Secretaria Municipal de Transportes  ...        <NA>             D   \n\n  prazo_tipo dentro_prazo   situacao          tipo_situacao  \\\n0          F     No prazo  Encerrado  Atendido parcialmente   \n\n  justificativa_status  reclamacoes  data_particao geometry  \n0                 None            0     2023-04-01     None  \n\n[1 rows x 32 columns]",
      "text/html": "<div>\n<style scoped>\n    .dataframe tbody tr th:only-of-type {\n        vertical-align: middle;\n    }\n\n    .dataframe tbody tr th {\n        vertical-align: top;\n    }\n\n    .dataframe thead th {\n        text-align: right;\n    }\n</style>\n<table border=\"1\" class=\"dataframe\">\n  <thead>\n    <tr style=\"text-align: right;\">\n      <th></th>\n      <th>id_chamado</th>\n      <th>data_inicio</th>\n      <th>data_fim</th>\n      <th>id_bairro</th>\n      <th>id_territorialidade</th>\n      <th>id_logradouro</th>\n      <th>numero_logradouro</th>\n      <th>id_unidade_organizacional</th>\n      <th>nome_unidade_organizacional</th>\n      <th>id_unidade_organizacional_mae</th>\n      <th>...</th>\n      <th>tempo_prazo</th>\n      <th>prazo_unidade</th>\n      <th>prazo_tipo</th>\n      <th>dentro_prazo</th>\n      <th>situacao</th>\n      <th>tipo_situacao</th>\n      <th>justificativa_status</th>\n      <th>reclamacoes</th>\n      <th>data_particao</th>\n      <th>geometry</th>\n    </tr>\n  </thead>\n  <tbody>\n    <tr>\n      <th>0</th>\n      <td>18516246</td>\n      <td>2023-04-01 00:55:38</td>\n      <td>2023-04-01 00:55:38</td>\n      <td>None</td>\n      <td>None</td>\n      <td>None</td>\n      <td>&lt;NA&gt;</td>\n      <td>1706</td>\n      <td>TR/SUBOP/CFT - Coordenadoria de Fiscalização e...</td>\n      <td>SMTR - Secretaria Municipal de Transportes</td>\n      <td>...</td>\n      <td>&lt;NA&gt;</td>\n      <td>D</td>\n      <td>F</td>\n      <td>No prazo</td>\n      <td>Encerrado</td>\n      <td>Atendido parcialmente</td>\n      <td>None</td>\n      <td>0</td>\n      <td>2023-04-01</td>\n      <td>None</td>\n    </tr>\n  </tbody>\n</table>\n<p>1 rows × 32 columns</p>\n</div>"
     },
     "execution_count": 39,
     "metadata": {},
     "output_type": "execute_result"
    }
   ],
   "source": [
    "df_chamados.loc[df_chamados['id_bairro'].isna()]"
   ],
   "metadata": {
    "collapsed": false,
    "ExecuteTime": {
     "end_time": "2024-02-20T00:41:06.039196600Z",
     "start_time": "2024-02-20T00:41:06.000373800Z"
    }
   },
   "id": "f24315299a2f08b9"
  },
  {
   "cell_type": "markdown",
   "source": [
    "Resposta: Existe 1 chamado que não possui id_bairro (id_chamado 18516246), logo, não possui bairro associado. Isso se deve pelo fato de ser um chamado do tipo \"Ônibus\", sendo assim, não possui necessariamente uma localização fixa para o chamado.\n"
   ],
   "metadata": {
    "collapsed": false
   },
   "id": "12f4332eed912e29"
  },
  {
   "cell_type": "markdown",
   "source": [],
   "metadata": {
    "collapsed": false
   },
   "id": "c31ed159cf8c8fc"
  }
 ],
 "metadata": {
  "kernelspec": {
   "display_name": "Python 3",
   "language": "python",
   "name": "python3"
  },
  "language_info": {
   "codemirror_mode": {
    "name": "ipython",
    "version": 2
   },
   "file_extension": ".py",
   "mimetype": "text/x-python",
   "name": "python",
   "nbconvert_exporter": "python",
   "pygments_lexer": "ipython2",
   "version": "2.7.6"
  }
 },
 "nbformat": 4,
 "nbformat_minor": 5
}
