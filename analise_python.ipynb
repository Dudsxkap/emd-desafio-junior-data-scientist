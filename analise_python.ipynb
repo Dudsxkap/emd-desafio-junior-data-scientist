{
 "cells": [
  {
   "cell_type": "markdown",
   "source": [
    "# Análise Exploratória do portal de dados DATA.RIO"
   ],
   "metadata": {
    "collapsed": false
   },
   "id": "a71ddc91fb864c26"
  },
  {
   "cell_type": "markdown",
   "source": [
    "## Importação das bibliotecas"
   ],
   "metadata": {
    "collapsed": false
   },
   "id": "7f9a6ebed9a75d24"
  },
  {
   "cell_type": "code",
   "execution_count": 1,
   "outputs": [],
   "source": [
    "import basedosdados as bd\n",
    "import pandas as pd\n",
    "from datetime import datetime\n",
    "from dotenv import load_dotenv\n",
    "import os"
   ],
   "metadata": {
    "collapsed": false,
    "ExecuteTime": {
     "end_time": "2024-02-25T13:34:36.685685200Z",
     "start_time": "2024-02-25T13:34:31.376714300Z"
    }
   },
   "id": "initial_id"
  },
  {
   "cell_type": "code",
   "execution_count": 2,
   "outputs": [
    {
     "data": {
      "text/plain": "True"
     },
     "execution_count": 2,
     "metadata": {},
     "output_type": "execute_result"
    }
   ],
   "source": [
    "load_dotenv()"
   ],
   "metadata": {
    "collapsed": false,
    "ExecuteTime": {
     "end_time": "2024-02-25T13:34:38.855865900Z",
     "start_time": "2024-02-25T13:34:38.826356600Z"
    }
   },
   "id": "8ac83fae7730ea44"
  },
  {
   "cell_type": "markdown",
   "source": [
    "## Funções auxiliares"
   ],
   "metadata": {
    "collapsed": false
   },
   "id": "86fa0048549f855f"
  },
  {
   "cell_type": "code",
   "execution_count": 3,
   "outputs": [],
   "source": [
    "def generate_df(query):\n",
    "    return bd.read_sql(query, billing_project_id=os.getenv('ID_PROJETO'))"
   ],
   "metadata": {
    "collapsed": false,
    "ExecuteTime": {
     "end_time": "2024-02-25T13:34:40.630707500Z",
     "start_time": "2024-02-25T13:34:40.619710700Z"
    }
   },
   "id": "fc66a6a8a52aea43"
  },
  {
   "cell_type": "markdown",
   "source": [
    "## Carregando dataframes para as questões 1 a 5"
   ],
   "metadata": {
    "collapsed": false
   },
   "id": "7a68201b24b716c4"
  },
  {
   "cell_type": "markdown",
   "source": [
    "Carrega a tabela de Chamados abertos na data 01/04/2023 em um dataframe. Além do filtro por 'data_inicio', também aplicamos o filtro pela 'data_particao', a fim de diminuir a quantidade processada."
   ],
   "metadata": {
    "collapsed": false
   },
   "id": "5144ba86c7a7316d"
  },
  {
   "cell_type": "code",
   "execution_count": 5,
   "outputs": [
    {
     "name": "stderr",
     "output_type": "stream",
     "text": [
      "Downloading: 100%|██████████| 73/73 [00:01<00:00, 72.59rows/s]\n"
     ]
    }
   ],
   "source": [
    "query_chamados = \"\"\"\n",
    "    SELECT * FROM datario.administracao_servicos_publicos.chamado_1746\n",
    "    WHERE DATE(data_inicio) = '2023-04-01' AND data_particao = '2023-04-01';\n",
    "\"\"\"\n",
    "\n",
    "df_chamados = generate_df(query_chamados)"
   ],
   "metadata": {
    "collapsed": false,
    "ExecuteTime": {
     "end_time": "2024-02-25T13:35:31.956343900Z",
     "start_time": "2024-02-25T13:35:20.728370800Z"
    }
   },
   "id": "ab83a3a2588a4cb1"
  },
  {
   "cell_type": "markdown",
   "source": [
    "Carrega a tabela de Bairros em um dataframe."
   ],
   "metadata": {
    "collapsed": false
   },
   "id": "26037994bc82ae9b"
  },
  {
   "cell_type": "code",
   "execution_count": 6,
   "outputs": [
    {
     "name": "stderr",
     "output_type": "stream",
     "text": [
      "Downloading: 100%|██████████| 164/164 [00:11<00:00, 14.16rows/s]\n"
     ]
    }
   ],
   "source": [
    "query_bairros = \"\"\"\n",
    "    SELECT * FROM datario.dados_mestres.bairro;\n",
    "\"\"\"\n",
    "\n",
    "df_bairros = generate_df(query_bairros)"
   ],
   "metadata": {
    "collapsed": false,
    "ExecuteTime": {
     "end_time": "2024-02-25T13:35:57.220071800Z",
     "start_time": "2024-02-25T13:35:41.536017300Z"
    }
   },
   "id": "df20050ae66ad3b7"
  },
  {
   "cell_type": "markdown",
   "source": [
    "## Questões 1 a 5"
   ],
   "metadata": {
    "collapsed": false
   },
   "id": "74916227ad561656"
  },
  {
   "cell_type": "markdown",
   "source": [
    "Como o dataframe \"df_chamados\" já é fruto de uma consulta da tabela de chamados filtrada pela data desejada em todas as questões (01/04/2023), não será necessário aplicar uma filtragem por esta data em cada etapa."
   ],
   "metadata": {
    "collapsed": false
   },
   "id": "992147946e07131d"
  },
  {
   "cell_type": "markdown",
   "source": [
    "### 1. Quantos chamados foram abertos no dia 01/04/2023?"
   ],
   "metadata": {
    "collapsed": false
   },
   "id": "280a36e7efba316e"
  },
  {
   "cell_type": "markdown",
   "source": [
    "Tendo em vista que o dataframe \"df_chamados\" já está filtrado pela data em questão, apenas se faz necessário contarmos quantas linhas ele possui. Deste modo, ao utilizarmos a função len no dataframe, conseguimos a resposta desejada."
   ],
   "metadata": {
    "collapsed": false
   },
   "id": "7fa014570d7bd9ee"
  },
  {
   "cell_type": "code",
   "execution_count": 7,
   "outputs": [
    {
     "data": {
      "text/plain": "73"
     },
     "execution_count": 7,
     "metadata": {},
     "output_type": "execute_result"
    }
   ],
   "source": [
    "len(df_chamados)"
   ],
   "metadata": {
    "collapsed": false,
    "ExecuteTime": {
     "end_time": "2024-02-25T13:38:08.664603700Z",
     "start_time": "2024-02-25T13:38:08.653600900Z"
    }
   },
   "id": "544c407e18564285"
  },
  {
   "cell_type": "markdown",
   "source": [
    "Resposta: 73 chamados"
   ],
   "metadata": {
    "collapsed": false
   },
   "id": "8d7fc3b85fb491ee"
  },
  {
   "cell_type": "markdown",
   "source": [
    "### 2. Qual o tipo de chamado que teve mais teve chamados abertos no dia 01/04/2023?\n"
   ],
   "metadata": {
    "collapsed": false
   },
   "id": "8b0c08bf0f253f98"
  },
  {
   "cell_type": "markdown",
   "source": [
    "Para conseguirmos saber o tipo de chamado que teve mais chamados aberto no dia em questão, basta realizarmos a contagem de valores agregando a coluna tipo, e após isso selecionarmos o primeiro valor. Assim, filtrando o dataframe \"df_chamados\" pela coluna \"tipo\" e utilizando a função \"value_counts\", agregamos o dataframe pela coluna desejada e fazemos a contagem de linhas referentes a cada tipo. Por fim, a função \"head\" com o parâmetro \"1\", nos retorna o maior valor dessa filtragem."
   ],
   "metadata": {
    "collapsed": false
   },
   "id": "fb3335e640bc8208"
  },
  {
   "cell_type": "code",
   "execution_count": 8,
   "outputs": [
    {
     "data": {
      "text/plain": "Poluição sonora    24\nName: tipo, dtype: int64"
     },
     "execution_count": 8,
     "metadata": {},
     "output_type": "execute_result"
    }
   ],
   "source": [
    "df_chamados['tipo'].value_counts().head(1)"
   ],
   "metadata": {
    "collapsed": false,
    "ExecuteTime": {
     "end_time": "2024-02-25T13:38:15.387592100Z",
     "start_time": "2024-02-25T13:38:15.377581100Z"
    }
   },
   "id": "4b212097a89edc14"
  },
  {
   "cell_type": "markdown",
   "source": [
    "Resposta: O tipo de chamado com mais chamados abertos no dia 01/04/2023 foi Poluição Sonora, com 24 chamados abertos."
   ],
   "metadata": {
    "collapsed": false
   },
   "id": "a3e3b452ccbd4288"
  },
  {
   "cell_type": "markdown",
   "source": [
    "### 3. Quais os nomes dos 3 bairros que mais tiveram chamados abertos nesse dia?\n"
   ],
   "metadata": {
    "collapsed": false
   },
   "id": "ca30513e1e05e0e3"
  },
  {
   "cell_type": "markdown",
   "source": [
    "Para encontrarmos a resposta dessa questão, precisamos relacionar as tabelas de chamados e bairros, a fim de contarmos quais bairros possuem mais chamados abertos na data em questão. Assim, ao fazermos o \"merge\" dos dataframes \"df_chamados\" e \"df_bairros\", utilizando a coluna \"id_bairro\" presente em ambos, conseguimos um dataframe que contem os dados dos chamados abertos no dia 01/04/2023 com as informações referentes ao bairro do chamado. Logo, basta filtrar da mesma maneira mostrada na questão anterior, porém mudando o tipo para \"nome\", que é a coluna referente ao nome do bairro, e colocar o parâmentro da função \"head\" para \"3\", pegando assim os 3 bairros com mais chamados abertos no dia em questão.  "
   ],
   "metadata": {
    "collapsed": false
   },
   "id": "e60b82b0984e8790"
  },
  {
   "cell_type": "code",
   "execution_count": 9,
   "outputs": [],
   "source": [
    "df_chamados_bairro = df_chamados.merge(df_bairros, on=\"id_bairro\")"
   ],
   "metadata": {
    "collapsed": false,
    "ExecuteTime": {
     "end_time": "2024-02-25T13:38:22.373681800Z",
     "start_time": "2024-02-25T13:38:22.355164900Z"
    }
   },
   "id": "c39a492523e93a84"
  },
  {
   "cell_type": "code",
   "execution_count": 10,
   "outputs": [
    {
     "data": {
      "text/plain": "Engenho de Dentro    8\nLeblon               6\nCampo Grande         6\nName: nome, dtype: int64"
     },
     "execution_count": 10,
     "metadata": {},
     "output_type": "execute_result"
    }
   ],
   "source": [
    "df_chamados_bairro['nome'].value_counts().head(3)"
   ],
   "metadata": {
    "collapsed": false,
    "ExecuteTime": {
     "end_time": "2024-02-25T13:38:22.813785600Z",
     "start_time": "2024-02-25T13:38:22.795764900Z"
    }
   },
   "id": "c1c8a48df9e82b80"
  },
  {
   "cell_type": "markdown",
   "source": [
    "Respostas: Os 3 bairros com mais chamados abertos na data em questão foram: Engenho de Dentro, com 8 chamados; Leblon, com 6 chamados; e Campo Grande, também com 6 chamados."
   ],
   "metadata": {
    "collapsed": false
   },
   "id": "8bb49b769554f0a6"
  },
  {
   "cell_type": "markdown",
   "source": [
    "### 4. Qual o nome da subprefeitura com mais chamados abertos nesse dia?"
   ],
   "metadata": {
    "collapsed": false
   },
   "id": "c46375a7af7ce6bb"
  },
  {
   "cell_type": "markdown",
   "source": [
    "Para a resposta em questão, utilizaremos a mesma relação criada na resposta anterior, porém buscamos o nome da subprefeitura com mais chamados abertos no dia em questão, não os 3 bairros com mais chamados abertos nesse dia. Assim, basta mudarmos a filtragem da coluna \"nome\" para a coluna \"subprefeitura\", e mudarmos o parâmetro da função \"head\" para \"1\", conseguindo assim a subprefeitura com mais chamados abertos nesse dia."
   ],
   "metadata": {
    "collapsed": false
   },
   "id": "fcd6c9a7b29845e3"
  },
  {
   "cell_type": "code",
   "execution_count": 11,
   "outputs": [
    {
     "data": {
      "text/plain": "Zona Norte    25\nName: subprefeitura, dtype: int64"
     },
     "execution_count": 11,
     "metadata": {},
     "output_type": "execute_result"
    }
   ],
   "source": [
    "df_chamados_bairro['subprefeitura'].value_counts().head(1)"
   ],
   "metadata": {
    "collapsed": false,
    "ExecuteTime": {
     "end_time": "2024-02-25T13:38:26.918993300Z",
     "start_time": "2024-02-25T13:38:26.907992600Z"
    }
   },
   "id": "b109bfa13e8f9663"
  },
  {
   "cell_type": "markdown",
   "source": [
    "Resposta: A subprefeitura com mais chamados abertos nesse dia foi a Zona Norte, com 25 chamados."
   ],
   "metadata": {
    "collapsed": false
   },
   "id": "ffceac4c3032f1e2"
  },
  {
   "cell_type": "markdown",
   "source": [
    "###  5. Existe algum chamado aberto nesse dia que não foi associado a um bairro ou subprefeitura na tabela de bairros? Se sim, por que isso acontece?"
   ],
   "metadata": {
    "collapsed": false
   },
   "id": "8d11214dbb33a7f8"
  },
  {
   "cell_type": "markdown",
   "source": [
    "Para essa questão, é necessário apenas contar quais registros de chamados no dataframe \"df_chamados\" não possuem valor na coluna \"id_bairro\", visto que isso impossibilita-os de terem um bairro associado. Assim, precisamos apenas utilizar a função \"loc\", filtrando a coluna \"id_bairro\" com a função \"isna\", que retorna os registros com valor nulo na coluna em questão. A partir disto, podemos inferir o motivo do chamado não ter bairro associado analisando as suas colunas. "
   ],
   "metadata": {
    "collapsed": false
   },
   "id": "bba4bce27f4449ab"
  },
  {
   "cell_type": "code",
   "execution_count": 12,
   "outputs": [],
   "source": [
    "df_chamados_sem_bairro = df_chamados.loc[df_chamados['id_bairro'].isna()]"
   ],
   "metadata": {
    "collapsed": false,
    "ExecuteTime": {
     "end_time": "2024-02-25T13:38:34.660818100Z",
     "start_time": "2024-02-25T13:38:34.647815600Z"
    }
   },
   "id": "f24315299a2f08b9"
  },
  {
   "cell_type": "code",
   "execution_count": 13,
   "outputs": [
    {
     "data": {
      "text/plain": "  id_chamado         data_inicio            data_fim id_bairro  \\\n0   18516246 2023-04-01 00:55:38 2023-04-01 00:55:38      None   \n\n  id_territorialidade id_logradouro  numero_logradouro  \\\n0                None          None               <NA>   \n\n  id_unidade_organizacional  \\\n0                      1706   \n\n                         nome_unidade_organizacional  \\\n0  TR/SUBOP/CFT - Coordenadoria de Fiscalização e...   \n\n                id_unidade_organizacional_mae  ... tempo_prazo prazo_unidade  \\\n0  SMTR - Secretaria Municipal de Transportes  ...        <NA>             D   \n\n  prazo_tipo dentro_prazo   situacao          tipo_situacao  \\\n0          F     No prazo  Encerrado  Atendido parcialmente   \n\n  justificativa_status  reclamacoes  data_particao geometry  \n0                 None            0     2023-04-01     None  \n\n[1 rows x 32 columns]",
      "text/html": "<div>\n<style scoped>\n    .dataframe tbody tr th:only-of-type {\n        vertical-align: middle;\n    }\n\n    .dataframe tbody tr th {\n        vertical-align: top;\n    }\n\n    .dataframe thead th {\n        text-align: right;\n    }\n</style>\n<table border=\"1\" class=\"dataframe\">\n  <thead>\n    <tr style=\"text-align: right;\">\n      <th></th>\n      <th>id_chamado</th>\n      <th>data_inicio</th>\n      <th>data_fim</th>\n      <th>id_bairro</th>\n      <th>id_territorialidade</th>\n      <th>id_logradouro</th>\n      <th>numero_logradouro</th>\n      <th>id_unidade_organizacional</th>\n      <th>nome_unidade_organizacional</th>\n      <th>id_unidade_organizacional_mae</th>\n      <th>...</th>\n      <th>tempo_prazo</th>\n      <th>prazo_unidade</th>\n      <th>prazo_tipo</th>\n      <th>dentro_prazo</th>\n      <th>situacao</th>\n      <th>tipo_situacao</th>\n      <th>justificativa_status</th>\n      <th>reclamacoes</th>\n      <th>data_particao</th>\n      <th>geometry</th>\n    </tr>\n  </thead>\n  <tbody>\n    <tr>\n      <th>0</th>\n      <td>18516246</td>\n      <td>2023-04-01 00:55:38</td>\n      <td>2023-04-01 00:55:38</td>\n      <td>None</td>\n      <td>None</td>\n      <td>None</td>\n      <td>&lt;NA&gt;</td>\n      <td>1706</td>\n      <td>TR/SUBOP/CFT - Coordenadoria de Fiscalização e...</td>\n      <td>SMTR - Secretaria Municipal de Transportes</td>\n      <td>...</td>\n      <td>&lt;NA&gt;</td>\n      <td>D</td>\n      <td>F</td>\n      <td>No prazo</td>\n      <td>Encerrado</td>\n      <td>Atendido parcialmente</td>\n      <td>None</td>\n      <td>0</td>\n      <td>2023-04-01</td>\n      <td>None</td>\n    </tr>\n  </tbody>\n</table>\n<p>1 rows × 32 columns</p>\n</div>"
     },
     "execution_count": 13,
     "metadata": {},
     "output_type": "execute_result"
    }
   ],
   "source": [
    "df_chamados_sem_bairro"
   ],
   "metadata": {
    "collapsed": false,
    "ExecuteTime": {
     "end_time": "2024-02-25T13:38:35.247900600Z",
     "start_time": "2024-02-25T13:38:35.217389100Z"
    }
   },
   "id": "281a5529047e7dbb"
  },
  {
   "cell_type": "code",
   "execution_count": 14,
   "outputs": [
    {
     "data": {
      "text/plain": "  id_chamado id_bairro    tipo  \\\n0   18516246      None  Ônibus   \n\n                                             subtipo  \n0  Verificação de ar condicionado inoperante no ô...  ",
      "text/html": "<div>\n<style scoped>\n    .dataframe tbody tr th:only-of-type {\n        vertical-align: middle;\n    }\n\n    .dataframe tbody tr th {\n        vertical-align: top;\n    }\n\n    .dataframe thead th {\n        text-align: right;\n    }\n</style>\n<table border=\"1\" class=\"dataframe\">\n  <thead>\n    <tr style=\"text-align: right;\">\n      <th></th>\n      <th>id_chamado</th>\n      <th>id_bairro</th>\n      <th>tipo</th>\n      <th>subtipo</th>\n    </tr>\n  </thead>\n  <tbody>\n    <tr>\n      <th>0</th>\n      <td>18516246</td>\n      <td>None</td>\n      <td>Ônibus</td>\n      <td>Verificação de ar condicionado inoperante no ô...</td>\n    </tr>\n  </tbody>\n</table>\n</div>"
     },
     "execution_count": 14,
     "metadata": {},
     "output_type": "execute_result"
    }
   ],
   "source": [
    "df_chamados_sem_bairro[['id_chamado', 'id_bairro', 'tipo', 'subtipo']]"
   ],
   "metadata": {
    "collapsed": false,
    "ExecuteTime": {
     "end_time": "2024-02-25T13:38:38.444470500Z",
     "start_time": "2024-02-25T13:38:38.405948700Z"
    }
   },
   "id": "53fd21a1d6fc0df4"
  },
  {
   "cell_type": "markdown",
   "source": [
    "Resposta: Existe 1 chamado que não possui id_bairro (id_chamado 18516246), logo, não possui bairro associado. Isso se deve pelo fato de ser um chamado do tipo \"Ônibus\", sendo assim, não possui necessariamente uma localização fixa para o chamado.\n"
   ],
   "metadata": {
    "collapsed": false
   },
   "id": "12f4332eed912e29"
  },
  {
   "cell_type": "markdown",
   "source": [
    "## Carregando dataframes para as questões de 6 a 10"
   ],
   "metadata": {
    "collapsed": false
   },
   "id": "90895bde62105ecf"
  },
  {
   "cell_type": "markdown",
   "source": [
    "Carrega a tabela de Eventos em um dataframe."
   ],
   "metadata": {
    "collapsed": false
   },
   "id": "f8f278eb0a7e760b"
  },
  {
   "cell_type": "code",
   "execution_count": 31,
   "outputs": [
    {
     "name": "stderr",
     "output_type": "stream",
     "text": [
      "Downloading: 100%|██████████| 4/4 [00:00<00:00, 10.06rows/s]\n"
     ]
    }
   ],
   "source": [
    "query_eventos = \"\"\"\n",
    "    SELECT * FROM datario.turismo_fluxo_visitantes.rede_hoteleira_ocupacao_eventos;\n",
    "\"\"\"\n",
    "\n",
    "df_eventos = generate_df(query_eventos)"
   ],
   "metadata": {
    "collapsed": false,
    "ExecuteTime": {
     "end_time": "2024-02-25T13:46:33.994292300Z",
     "start_time": "2024-02-25T13:46:31.291415300Z"
    }
   },
   "id": "19648ea27b02e529"
  },
  {
   "cell_type": "code",
   "execution_count": 32,
   "outputs": [
    {
     "data": {
      "text/plain": "                            ano data_inicial  data_final       evento  \\\n0         18/02 a 21/02 de 2023   2023-02-18  2023-02-21     Carnaval   \n1  30-31/12 e 01/01 (2022-2023)   2022-12-30  2023-01-01    Reveillon   \n2         02/09 a 04/09 de 2022   2022-09-02  2022-09-04  Rock in Rio   \n3         08/09 a 11/09 de 2022   2022-09-08  2022-09-11  Rock in Rio   \n\n   taxa_ocupacao  \n0         0.9554  \n1         0.9251  \n2         0.8184  \n3         0.9451  ",
      "text/html": "<div>\n<style scoped>\n    .dataframe tbody tr th:only-of-type {\n        vertical-align: middle;\n    }\n\n    .dataframe tbody tr th {\n        vertical-align: top;\n    }\n\n    .dataframe thead th {\n        text-align: right;\n    }\n</style>\n<table border=\"1\" class=\"dataframe\">\n  <thead>\n    <tr style=\"text-align: right;\">\n      <th></th>\n      <th>ano</th>\n      <th>data_inicial</th>\n      <th>data_final</th>\n      <th>evento</th>\n      <th>taxa_ocupacao</th>\n    </tr>\n  </thead>\n  <tbody>\n    <tr>\n      <th>0</th>\n      <td>18/02 a 21/02 de 2023</td>\n      <td>2023-02-18</td>\n      <td>2023-02-21</td>\n      <td>Carnaval</td>\n      <td>0.9554</td>\n    </tr>\n    <tr>\n      <th>1</th>\n      <td>30-31/12 e 01/01 (2022-2023)</td>\n      <td>2022-12-30</td>\n      <td>2023-01-01</td>\n      <td>Reveillon</td>\n      <td>0.9251</td>\n    </tr>\n    <tr>\n      <th>2</th>\n      <td>02/09 a 04/09 de 2022</td>\n      <td>2022-09-02</td>\n      <td>2022-09-04</td>\n      <td>Rock in Rio</td>\n      <td>0.8184</td>\n    </tr>\n    <tr>\n      <th>3</th>\n      <td>08/09 a 11/09 de 2022</td>\n      <td>2022-09-08</td>\n      <td>2022-09-11</td>\n      <td>Rock in Rio</td>\n      <td>0.9451</td>\n    </tr>\n  </tbody>\n</table>\n</div>"
     },
     "execution_count": 32,
     "metadata": {},
     "output_type": "execute_result"
    }
   ],
   "source": [
    "df_eventos"
   ],
   "metadata": {
    "collapsed": false,
    "ExecuteTime": {
     "end_time": "2024-02-25T13:46:38.067594Z",
     "start_time": "2024-02-25T13:46:38.048072300Z"
    }
   },
   "id": "530ed4235f68ff82"
  },
  {
   "cell_type": "markdown",
   "source": [
    "Carrega a tabela de Chamados abertos com o subtipo \"Perturbação do sossego\" em um dataframe. Além do filtro por subtipo, também aplicamos o filtro pela 'data_particao', a fim de diminuir a quantidade processada. Como sabemos que os eventos ocorreram exclusivamente nos anos de 2022 e 2023, o filtro aplicado pela 'data_particao' busca todos os registros realizados nos dois anos."
   ],
   "metadata": {
    "collapsed": false
   },
   "id": "4b4ac6bea5bae431"
  },
  {
   "cell_type": "code",
   "execution_count": 33,
   "outputs": [
    {
     "name": "stderr",
     "output_type": "stream",
     "text": [
      "Downloading: 100%|██████████| 42408/42408 [00:14<00:00, 2853.89rows/s]\n"
     ]
    }
   ],
   "source": [
    "query_chamados = \"\"\"\n",
    "    SELECT * FROM datario.administracao_servicos_publicos.chamado_1746\n",
    "    WHERE subtipo = 'Perturbação do sossego' AND data_particao BETWEEN '2022-01-01' AND '2023-12-01';\n",
    "\"\"\"\n",
    "\n",
    "df_chamados = generate_df(query_chamados)"
   ],
   "metadata": {
    "collapsed": false,
    "ExecuteTime": {
     "end_time": "2024-02-25T13:47:59.029154Z",
     "start_time": "2024-02-25T13:47:41.333918400Z"
    }
   },
   "id": "a2f2effe50445023"
  },
  {
   "cell_type": "markdown",
   "source": [
    "## Questões 6 a 10"
   ],
   "metadata": {
    "collapsed": false
   },
   "id": "5372a98ee6ee2c8"
  },
  {
   "cell_type": "markdown",
   "source": [
    "Como o dataframe \"df_chamados\" já é fruto de uma consulta da tabela de chamados filtrada pelo subtipo (Perturbação do sossego) e datas desejadas (2022 e 2023) em todas as questões, não será necessário aplicar uma filtragem por data e subtipo em cada etapa."
   ],
   "metadata": {
    "collapsed": false
   },
   "id": "e3a8a1216df3ba8d"
  },
  {
   "cell_type": "markdown",
   "source": [
    "###  6. Quantos chamados com o subtipo \"Perturbação do sossego\" foram abertos desde 01/01/2022 até 31/12/2023 (incluindo extremidades)?"
   ],
   "metadata": {
    "collapsed": false
   },
   "id": "8e9144526ffce58b"
  },
  {
   "cell_type": "markdown",
   "source": [
    "Tendo em vista que o dataframe \"df_chamados\" já está filtrado pela data em questão, apenas se faz necessário contarmos quantas linhas ele possui. Deste modo, ao utilizarmos a função len no dataframe, conseguimos a resposta desejada."
   ],
   "metadata": {
    "collapsed": false
   },
   "id": "429023305646ccc5"
  },
  {
   "cell_type": "code",
   "execution_count": 34,
   "outputs": [
    {
     "data": {
      "text/plain": "42408"
     },
     "execution_count": 34,
     "metadata": {},
     "output_type": "execute_result"
    }
   ],
   "source": [
    "len(df_chamados)"
   ],
   "metadata": {
    "collapsed": false,
    "ExecuteTime": {
     "end_time": "2024-02-25T13:51:20.401071500Z",
     "start_time": "2024-02-25T13:51:20.385069300Z"
    }
   },
   "id": "25fe2a2f57822fc7"
  },
  {
   "cell_type": "markdown",
   "source": [
    "Resposta: 42408 chamados."
   ],
   "metadata": {
    "collapsed": false
   },
   "id": "c607926832e6c9f2"
  },
  {
   "cell_type": "markdown",
   "source": [
    "###  7. Selecione os chamados com esse subtipo que foram abertos durante os eventos contidos na tabela de eventos (Reveillon, Carnaval e Rock in Rio)."
   ],
   "metadata": {
    "collapsed": false
   },
   "id": "1fc89e61859935af"
  },
  {
   "cell_type": "markdown",
   "source": [
    "Para encontrarmos a resposta dessa questão, precisamos relacionar as tabelas de chamados e eventos, a fim de contarmos quantos chamados foram abertos durante a duração dos eventos em questão. Assim, precisamos fazer o 'merge' dos dataframes 'df_chamados' e 'df_eventos', porém, como queremos relacionar uma coluna do dataframe 'df_chamados' ('data_inicio'), com mais de uma coluna do dataframe 'df_eventos' (um intervalo proposto pelas colunas 'data_inicial' e 'data_final'), não conseguirmos fazer um 'merge' diretamente por essas colunas. Logo, precisamos fazer um produto cartesiano entre os dois dataframes, utilizando o tipo de 'merge' chamado 'cross', retornando assim todas as combinações de linhas entre ambos dataframes. Por fim, basta filtrar o resultado da operção pelas datas desejadas, utilizando o mesmo método da questão anterior."
   ],
   "metadata": {
    "collapsed": false
   },
   "id": "c8b82273fabf08f9"
  },
  {
   "cell_type": "code",
   "execution_count": 35,
   "outputs": [],
   "source": [
    "df_chamados_cross = df_chamados.merge(df_eventos, how='cross')\n",
    "\n",
    "df_chamados_evento = df_chamados_cross.loc[(df_chamados_cross['data_inicio'].dt.date >= df_chamados_cross['data_inicial']) & (df_chamados_cross['data_inicio'].dt.date <= df_chamados_cross['data_final'])]"
   ],
   "metadata": {
    "collapsed": false,
    "ExecuteTime": {
     "end_time": "2024-02-25T13:51:45.329715200Z",
     "start_time": "2024-02-25T13:51:44.340457800Z"
    }
   },
   "id": "5dfb1680558fcc9c"
  },
  {
   "cell_type": "code",
   "execution_count": 36,
   "outputs": [
    {
     "data": {
      "text/plain": "       id_chamado         data_inicio     evento\n28017    18078140 2022-12-30 20:18:43  Reveillon\n28057    18077988 2022-12-30 18:54:32  Reveillon\n28061    18077970 2022-12-30 18:43:04  Reveillon\n28073    18077984 2022-12-30 18:53:12  Reveillon\n28421    18078946 2022-12-31 11:52:48  Reveillon\n...           ...                 ...        ...\n114489   18080335 2023-01-01 21:55:10  Reveillon\n114493   18080337 2023-01-01 21:59:43  Reveillon\n114497   18080341 2023-01-01 22:04:48  Reveillon\n114525   18079926 2023-01-01 13:54:17  Reveillon\n116205   18080205 2023-01-01 19:23:19  Reveillon\n\n[1212 rows x 3 columns]",
      "text/html": "<div>\n<style scoped>\n    .dataframe tbody tr th:only-of-type {\n        vertical-align: middle;\n    }\n\n    .dataframe tbody tr th {\n        vertical-align: top;\n    }\n\n    .dataframe thead th {\n        text-align: right;\n    }\n</style>\n<table border=\"1\" class=\"dataframe\">\n  <thead>\n    <tr style=\"text-align: right;\">\n      <th></th>\n      <th>id_chamado</th>\n      <th>data_inicio</th>\n      <th>evento</th>\n    </tr>\n  </thead>\n  <tbody>\n    <tr>\n      <th>28017</th>\n      <td>18078140</td>\n      <td>2022-12-30 20:18:43</td>\n      <td>Reveillon</td>\n    </tr>\n    <tr>\n      <th>28057</th>\n      <td>18077988</td>\n      <td>2022-12-30 18:54:32</td>\n      <td>Reveillon</td>\n    </tr>\n    <tr>\n      <th>28061</th>\n      <td>18077970</td>\n      <td>2022-12-30 18:43:04</td>\n      <td>Reveillon</td>\n    </tr>\n    <tr>\n      <th>28073</th>\n      <td>18077984</td>\n      <td>2022-12-30 18:53:12</td>\n      <td>Reveillon</td>\n    </tr>\n    <tr>\n      <th>28421</th>\n      <td>18078946</td>\n      <td>2022-12-31 11:52:48</td>\n      <td>Reveillon</td>\n    </tr>\n    <tr>\n      <th>...</th>\n      <td>...</td>\n      <td>...</td>\n      <td>...</td>\n    </tr>\n    <tr>\n      <th>114489</th>\n      <td>18080335</td>\n      <td>2023-01-01 21:55:10</td>\n      <td>Reveillon</td>\n    </tr>\n    <tr>\n      <th>114493</th>\n      <td>18080337</td>\n      <td>2023-01-01 21:59:43</td>\n      <td>Reveillon</td>\n    </tr>\n    <tr>\n      <th>114497</th>\n      <td>18080341</td>\n      <td>2023-01-01 22:04:48</td>\n      <td>Reveillon</td>\n    </tr>\n    <tr>\n      <th>114525</th>\n      <td>18079926</td>\n      <td>2023-01-01 13:54:17</td>\n      <td>Reveillon</td>\n    </tr>\n    <tr>\n      <th>116205</th>\n      <td>18080205</td>\n      <td>2023-01-01 19:23:19</td>\n      <td>Reveillon</td>\n    </tr>\n  </tbody>\n</table>\n<p>1212 rows × 3 columns</p>\n</div>"
     },
     "execution_count": 36,
     "metadata": {},
     "output_type": "execute_result"
    }
   ],
   "source": [
    "df_chamados_evento[['id_chamado', 'data_inicio', 'evento']]"
   ],
   "metadata": {
    "collapsed": false,
    "ExecuteTime": {
     "end_time": "2024-02-25T13:51:45.827254400Z",
     "start_time": "2024-02-25T13:51:45.818256500Z"
    }
   },
   "id": "1c38c62d73913c1d"
  },
  {
   "cell_type": "code",
   "execution_count": 37,
   "outputs": [
    {
     "data": {
      "text/plain": "1212"
     },
     "execution_count": 37,
     "metadata": {},
     "output_type": "execute_result"
    }
   ],
   "source": [
    "len(df_chamados_evento)"
   ],
   "metadata": {
    "collapsed": false,
    "ExecuteTime": {
     "end_time": "2024-02-25T13:51:47.038407200Z",
     "start_time": "2024-02-25T13:51:47.029405Z"
    }
   },
   "id": "87baa1e66458a107"
  },
  {
   "cell_type": "markdown",
   "source": [
    "Resposta: 1212 chamados."
   ],
   "metadata": {
    "collapsed": false
   },
   "id": "5ab4da96fa37626b"
  },
  {
   "cell_type": "markdown",
   "source": [
    "### 8. Quantos chamados desse subtipo foram abertos em cada evento?"
   ],
   "metadata": {
    "collapsed": false
   },
   "id": "70dce50a6a69d21d"
  },
  {
   "cell_type": "markdown",
   "source": [
    "Como já temos um dataframe que contém a relação entre os chamados e eventos que ocorriam na sua abertura (\"df_chamados_evento\"), basta fazermos a contagem de cada registro de chamado agrupando por evento. Deste modo, apenas se faz necessário filtrar o dataframe mecionado pela sua coluna de \"evento\" e utilizar a função \"value_counts\"."
   ],
   "metadata": {
    "collapsed": false
   },
   "id": "9f804a8b59968214"
  },
  {
   "cell_type": "code",
   "execution_count": 38,
   "outputs": [
    {
     "data": {
      "text/plain": "Rock in Rio    834\nCarnaval       241\nReveillon      137\nName: evento, dtype: int64"
     },
     "execution_count": 38,
     "metadata": {},
     "output_type": "execute_result"
    }
   ],
   "source": [
    "df_chamados_evento['evento'].value_counts()"
   ],
   "metadata": {
    "collapsed": false,
    "ExecuteTime": {
     "end_time": "2024-02-25T13:52:00.375404100Z",
     "start_time": "2024-02-25T13:52:00.349897600Z"
    }
   },
   "id": "577eda4850ca0b58"
  },
  {
   "cell_type": "markdown",
   "source": [
    "Resposta: Reveillon - 137 chamados; Carnaval - 241 chamados; Rock in Rio - 834 chamados."
   ],
   "metadata": {
    "collapsed": false
   },
   "id": "f7bc8f9b419c64f3"
  },
  {
   "cell_type": "markdown",
   "source": [
    "### 9. Qual evento teve a maior média diária de chamados abertos desse subtipo?\n"
   ],
   "metadata": {
    "collapsed": false
   },
   "id": "7f792d8ffc5babdd"
  },
  {
   "cell_type": "markdown",
   "source": [
    "A fim de analisarmos qual evento teve a maior média diária de chamados abertos do subtipo \"Perturbação do sossego\", é necessário relacionarmos a duração de cada evento com o número de chamados do subtipo desejado para cada evento.\n",
    "Primeiramente, foi criado um dataframe chamado 'df_total_chamados_evento', contendo os eventos e o número de chamados que esse evento recebeu, com base na resposta da questão anterior. Após isso, foi criada a coluna 'duracao' no dataframe 'df_eventos', a fim de gerar a duração para cada registro da tabela de eventos, e com essa informação, foi criado o dataframe 'df_duracao_evento', que possui a informação do nome e duração para cada evento.\n",
    "Por fim, foi feita a associação entre os dataframes 'df_total_chamados_evento' e 'df_duracao_evento', gerando o dataframe 'df_media_diaria_evento', adicionando uma coluna criada a partir da divisão da  quantidade de chamados e duração de cada evento, a coluna 'media_diaria_evento'."
   ],
   "metadata": {
    "collapsed": false
   },
   "id": "4e9ec2c73d3ab737"
  },
  {
   "cell_type": "code",
   "execution_count": 39,
   "outputs": [],
   "source": [
    "df_total_chamados_evento = df_chamados_evento['evento'].value_counts().rename_axis('evento').reset_index(name='total_chamados_evento')"
   ],
   "metadata": {
    "collapsed": false,
    "ExecuteTime": {
     "end_time": "2024-02-25T13:52:15.801536200Z",
     "start_time": "2024-02-25T13:52:15.790023800Z"
    }
   },
   "id": "5caa664a892de74e"
  },
  {
   "cell_type": "code",
   "execution_count": 40,
   "outputs": [],
   "source": [
    "df_eventos['duracao'] = (df_eventos['data_final'] - df_eventos['data_inicial']).dt.days + 1\n",
    "df_duracao_evento = df_eventos[['evento', 'duracao']].groupby(['evento'], as_index=False).sum()"
   ],
   "metadata": {
    "collapsed": false,
    "ExecuteTime": {
     "end_time": "2024-02-25T13:52:16.224942500Z",
     "start_time": "2024-02-25T13:52:16.213942500Z"
    }
   },
   "id": "c46fa877f41e0728"
  },
  {
   "cell_type": "code",
   "execution_count": 41,
   "outputs": [],
   "source": [
    "df_media_diaria_evento = df_total_chamados_evento.merge(df_duracao_evento, on='evento')"
   ],
   "metadata": {
    "collapsed": false,
    "ExecuteTime": {
     "end_time": "2024-02-25T13:52:18.002307300Z",
     "start_time": "2024-02-25T13:52:17.985201300Z"
    }
   },
   "id": "c93a0dc9f16acc04"
  },
  {
   "cell_type": "code",
   "execution_count": 42,
   "outputs": [],
   "source": [
    "df_media_diaria_evento['media_diaria_evento'] = round(df_media_diaria_evento['total_chamados_evento']/df_media_diaria_evento['duracao'], 2)"
   ],
   "metadata": {
    "collapsed": false,
    "ExecuteTime": {
     "end_time": "2024-02-25T13:52:18.397362200Z",
     "start_time": "2024-02-25T13:52:18.379803600Z"
    }
   },
   "id": "b8cbf8861b937a5b"
  },
  {
   "cell_type": "code",
   "execution_count": 43,
   "outputs": [
    {
     "data": {
      "text/plain": "        evento  media_diaria_evento\n0  Rock in Rio               119.14\n1     Carnaval                60.25\n2    Reveillon                45.67",
      "text/html": "<div>\n<style scoped>\n    .dataframe tbody tr th:only-of-type {\n        vertical-align: middle;\n    }\n\n    .dataframe tbody tr th {\n        vertical-align: top;\n    }\n\n    .dataframe thead th {\n        text-align: right;\n    }\n</style>\n<table border=\"1\" class=\"dataframe\">\n  <thead>\n    <tr style=\"text-align: right;\">\n      <th></th>\n      <th>evento</th>\n      <th>media_diaria_evento</th>\n    </tr>\n  </thead>\n  <tbody>\n    <tr>\n      <th>0</th>\n      <td>Rock in Rio</td>\n      <td>119.14</td>\n    </tr>\n    <tr>\n      <th>1</th>\n      <td>Carnaval</td>\n      <td>60.25</td>\n    </tr>\n    <tr>\n      <th>2</th>\n      <td>Reveillon</td>\n      <td>45.67</td>\n    </tr>\n  </tbody>\n</table>\n</div>"
     },
     "execution_count": 43,
     "metadata": {},
     "output_type": "execute_result"
    }
   ],
   "source": [
    "df_media_diaria_evento[['evento', 'media_diaria_evento']]"
   ],
   "metadata": {
    "collapsed": false,
    "ExecuteTime": {
     "end_time": "2024-02-25T13:52:18.857357100Z",
     "start_time": "2024-02-25T13:52:18.836846600Z"
    }
   },
   "id": "a63009246570b20a"
  },
  {
   "cell_type": "markdown",
   "source": [
    "Resposta: Rock in Rio, com uma média diária de 119.14 chamados.\n"
   ],
   "metadata": {
    "collapsed": false
   },
   "id": "be62e6f1fcd8e78b"
  },
  {
   "cell_type": "markdown",
   "source": [
    "### 10. Compare as médias diárias de chamados abertos desse subtipo durante os eventos específicos (Reveillon, Carnaval e Rock in Rio) e a média diária de chamados abertos desse subtipo considerando todo o período de 01/01/2022 até 31/12/2023.\n"
   ],
   "metadata": {
    "collapsed": false
   },
   "id": "18c43ae845a33536"
  },
  {
   "cell_type": "markdown",
   "source": [
    "Para conseguirmos realizar essa análise, é necessário utilizar o resultado encontrado na questão anterior, juntamente à média diária de chamados para o período citado. \n",
    "A fim de encontrar a média diária para o período de 01/01/2022 até 31/12/2023, precisamos da quantidade de chamados e da duração do período. A quantidade de chamados foi encontrada previamente na questão 6, logo, basta repetirmos o método utilizado nela. Para a duração, basta fazermos a diferença da data final e inicial do período em questão. Com ambas medidas, conseguimos a média diária de chamados abertos desse subtipo no perído desejado dividindo o total de chamados pela duração, e atribuimos esse valor à variável 'media_diaria_periodo'.\n",
    "Por fim, adicionamos ao dataframe 'df_media_diaria_evento', encontrado na questão anterior, uma nova coluna chamada 'media_diaria_periodo', com o valor da variável 'media_diaria_periodo'. Deste modo, podemos comparar as médias pedidas no enunciado. Para tal, foi calculada a porcentagem de variação entre as médias, gerando assim uma análise comparativa entre os quantitativos desejados."
   ],
   "metadata": {
    "collapsed": false
   },
   "id": "a6acb4999bc7d47c"
  },
  {
   "cell_type": "code",
   "execution_count": 44,
   "outputs": [],
   "source": [
    "data_inicial = datetime(2022, 1, 1).date()\n",
    "data_final = datetime(2023, 12, 31).date()\n",
    "\n",
    "total_chamados_periodo = len(df_chamados)\n",
    "duracao_periodo = (data_final - data_inicial).days + 1\n",
    "media_diaria_periodo = round(total_chamados_periodo / duracao_periodo, 2)"
   ],
   "metadata": {
    "collapsed": false,
    "ExecuteTime": {
     "end_time": "2024-02-25T13:53:04.992072700Z",
     "start_time": "2024-02-25T13:53:04.978075500Z"
    }
   },
   "id": "6d47f2514c4b53d3"
  },
  {
   "cell_type": "code",
   "execution_count": 45,
   "outputs": [],
   "source": [
    "df_media_diaria_evento['media_diaria_periodo'] = media_diaria_periodo"
   ],
   "metadata": {
    "collapsed": false,
    "ExecuteTime": {
     "end_time": "2024-02-25T13:53:06.559672900Z",
     "start_time": "2024-02-25T13:53:06.550413500Z"
    }
   },
   "id": "5070e2c655c1c437"
  },
  {
   "cell_type": "code",
   "execution_count": 46,
   "outputs": [],
   "source": [
    "df_media_diaria_evento['porcentagem_variacao'] = round((df_media_diaria_evento['media_diaria_evento']*100)/df_media_diaria_evento['media_diaria_periodo'] - 100, 2)"
   ],
   "metadata": {
    "collapsed": false,
    "ExecuteTime": {
     "end_time": "2024-02-25T13:53:06.975409900Z",
     "start_time": "2024-02-25T13:53:06.965411Z"
    }
   },
   "id": "e8e566bf43f6f06e"
  },
  {
   "cell_type": "code",
   "execution_count": 47,
   "outputs": [
    {
     "data": {
      "text/plain": "        evento  media_diaria_evento  media_diaria_periodo  \\\n0  Rock in Rio               119.14                 58.09   \n1     Carnaval                60.25                 58.09   \n2    Reveillon                45.67                 58.09   \n\n   porcentagem_variacao  \n0                105.10  \n1                  3.72  \n2                -21.38  ",
      "text/html": "<div>\n<style scoped>\n    .dataframe tbody tr th:only-of-type {\n        vertical-align: middle;\n    }\n\n    .dataframe tbody tr th {\n        vertical-align: top;\n    }\n\n    .dataframe thead th {\n        text-align: right;\n    }\n</style>\n<table border=\"1\" class=\"dataframe\">\n  <thead>\n    <tr style=\"text-align: right;\">\n      <th></th>\n      <th>evento</th>\n      <th>media_diaria_evento</th>\n      <th>media_diaria_periodo</th>\n      <th>porcentagem_variacao</th>\n    </tr>\n  </thead>\n  <tbody>\n    <tr>\n      <th>0</th>\n      <td>Rock in Rio</td>\n      <td>119.14</td>\n      <td>58.09</td>\n      <td>105.10</td>\n    </tr>\n    <tr>\n      <th>1</th>\n      <td>Carnaval</td>\n      <td>60.25</td>\n      <td>58.09</td>\n      <td>3.72</td>\n    </tr>\n    <tr>\n      <th>2</th>\n      <td>Reveillon</td>\n      <td>45.67</td>\n      <td>58.09</td>\n      <td>-21.38</td>\n    </tr>\n  </tbody>\n</table>\n</div>"
     },
     "execution_count": 47,
     "metadata": {},
     "output_type": "execute_result"
    }
   ],
   "source": [
    "df_media_diaria_evento[['evento', 'media_diaria_evento', 'media_diaria_periodo', 'porcentagem_variacao']]"
   ],
   "metadata": {
    "collapsed": false,
    "ExecuteTime": {
     "end_time": "2024-02-25T13:53:07.499646500Z",
     "start_time": "2024-02-25T13:53:07.483131200Z"
    }
   },
   "id": "d0c07e9172f8d58d"
  },
  {
   "cell_type": "markdown",
   "source": [
    "Resposta: A média diária de chamados no período de 01/01/2022 até 31/12/2023 foi de 58.09 chamados, a média do Reveillon foi de 45.67 chamados diários, a do Carnaval foi de 60.25 chamados diários e a do Rock in Rio foi de 119.14 chamados diários. Assim, ao compararmos as médias temos que: a média diária do Carnaval foi 3.72% maior que a média diária anual; a média diária do Reveillon foi 21.38% menor que a média diária anual; e a média diária do Rock in Rio foi 105.1% maior que a média diária anual. \n"
   ],
   "metadata": {
    "collapsed": false
   },
   "id": "83d7bdb28d0cb5cd"
  }
 ],
 "metadata": {
  "kernelspec": {
   "display_name": "Python 3",
   "language": "python",
   "name": "python3"
  },
  "language_info": {
   "codemirror_mode": {
    "name": "ipython",
    "version": 2
   },
   "file_extension": ".py",
   "mimetype": "text/x-python",
   "name": "python",
   "nbconvert_exporter": "python",
   "pygments_lexer": "ipython2",
   "version": "2.7.6"
  }
 },
 "nbformat": 4,
 "nbformat_minor": 5
}
