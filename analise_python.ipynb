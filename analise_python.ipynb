{
 "cells": [
  {
   "cell_type": "markdown",
   "source": [
    "## Importação das bibliotecas"
   ],
   "metadata": {
    "collapsed": false
   },
   "id": "7f9a6ebed9a75d24"
  },
  {
   "cell_type": "code",
   "execution_count": 51,
   "outputs": [],
   "source": [
    "import basedosdados as bd\n",
    "import pandas as pd\n",
    "from datetime import datetime"
   ],
   "metadata": {
    "collapsed": false,
    "ExecuteTime": {
     "end_time": "2024-02-20T01:13:31.064939600Z",
     "start_time": "2024-02-20T01:13:31.046686500Z"
    }
   },
   "id": "initial_id"
  },
  {
   "cell_type": "markdown",
   "source": [
    "## Funções auxiliares"
   ],
   "metadata": {
    "collapsed": false
   },
   "id": "86fa0048549f855f"
  },
  {
   "cell_type": "code",
   "execution_count": 3,
   "outputs": [],
   "source": [
    "def generate_df(query):\n",
    "    return bd.read_sql(query, billing_project_id=\"datario-eduardo-amorim\")"
   ],
   "metadata": {
    "collapsed": false,
    "ExecuteTime": {
     "end_time": "2024-02-19T23:38:11.715358900Z",
     "start_time": "2024-02-19T23:38:11.701848Z"
    }
   },
   "id": "fc66a6a8a52aea43"
  },
  {
   "cell_type": "markdown",
   "source": [
    "## Carregando dataframes para as questões 1 a 5"
   ],
   "metadata": {
    "collapsed": false
   },
   "id": "7a68201b24b716c4"
  },
  {
   "cell_type": "code",
   "execution_count": 7,
   "outputs": [
    {
     "name": "stderr",
     "output_type": "stream",
     "text": [
      "Downloading: 100%|██████████| 73/73 [00:00<00:00, 198.46rows/s]\n"
     ]
    }
   ],
   "source": [
    "#Carrega a tabela de Chamados abertos na data 01/04/2023 em um dataframe\n",
    "query_chamados = \"\"\"\n",
    "    SELECT * FROM datario.administracao_servicos_publicos.chamado_1746\n",
    "    WHERE DATE(data_inicio) = '2023-04-01';\n",
    "\"\"\"\n",
    "\n",
    "df_chamados = generate_df(query_chamados)"
   ],
   "metadata": {
    "collapsed": false,
    "ExecuteTime": {
     "end_time": "2024-02-19T23:50:48.753393200Z",
     "start_time": "2024-02-19T23:50:45.996570200Z"
    }
   },
   "id": "ab83a3a2588a4cb1"
  },
  {
   "cell_type": "code",
   "execution_count": 8,
   "outputs": [
    {
     "name": "stderr",
     "output_type": "stream",
     "text": [
      "Downloading: 100%|██████████| 164/164 [00:11<00:00, 14.63rows/s]\n"
     ]
    }
   ],
   "source": [
    "#Carrega a tabela de Bairros em um dataframe \n",
    "query_bairros = \"\"\"\n",
    "    SELECT * FROM datario.dados_mestres.bairro;\n",
    "\"\"\"\n",
    "\n",
    "df_bairros = generate_df(query_bairros)"
   ],
   "metadata": {
    "collapsed": false,
    "ExecuteTime": {
     "end_time": "2024-02-19T23:51:53.984021200Z",
     "start_time": "2024-02-19T23:51:39.771063400Z"
    }
   },
   "id": "df20050ae66ad3b7"
  },
  {
   "cell_type": "markdown",
   "source": [
    "## Questões 1 a 5"
   ],
   "metadata": {
    "collapsed": false
   },
   "id": "74916227ad561656"
  },
  {
   "cell_type": "markdown",
   "source": [
    "Como o dataframe \"df_chamados\" já é fruto de uma consulta da tabela de chamados filtrada pela data desejada em todas as questões (01/04/2023), não será necessário aplicar uma filtragem por esta data em cada etapa."
   ],
   "metadata": {
    "collapsed": false
   },
   "id": "992147946e07131d"
  },
  {
   "cell_type": "markdown",
   "source": [
    "### 1. Quantos chamados foram abertos no dia 01/04/2023?"
   ],
   "metadata": {
    "collapsed": false
   },
   "id": "280a36e7efba316e"
  },
  {
   "cell_type": "markdown",
   "source": [
    "Tendo em vista que o dataframe \"df_chamados\" já está filtrado pela data em questão, apenas se faz necessário contarmos quantas linhas ele possui. Deste modo, ao utilizarmos a função len no dataframe, conseguimos a resposta desejada."
   ],
   "metadata": {
    "collapsed": false
   },
   "id": "7fa014570d7bd9ee"
  },
  {
   "cell_type": "code",
   "execution_count": 15,
   "outputs": [
    {
     "data": {
      "text/plain": "73"
     },
     "execution_count": 15,
     "metadata": {},
     "output_type": "execute_result"
    }
   ],
   "source": [
    "len(df_chamados)"
   ],
   "metadata": {
    "collapsed": false,
    "ExecuteTime": {
     "start_time": "2024-02-19T23:55:56.583909400Z"
    }
   },
   "id": "544c407e18564285"
  },
  {
   "cell_type": "markdown",
   "source": [
    "Resposta: 73 chamados"
   ],
   "metadata": {
    "collapsed": false
   },
   "id": "8d7fc3b85fb491ee"
  },
  {
   "cell_type": "markdown",
   "source": [
    "### 2. Qual o tipo de chamado que teve mais teve chamados abertos no dia 01/04/2023?\n"
   ],
   "metadata": {
    "collapsed": false
   },
   "id": "8b0c08bf0f253f98"
  },
  {
   "cell_type": "markdown",
   "source": [
    "Para conseguirmos saber o tipo de chamado que teve mais chamados aberto no dia em questão, basta realizarmos a contagem de valores agregando a coluna tipo, e após isso selecionarmos o primeiro valor. Assim, filtrando o dataframe \"df_chamados\" pela coluna \"tipo\" e utilizando a função \"value_counts\", agregamos o dataframe pela coluna desejada e fazemos a contagem de linhas referentes a cada tipo. Por fim, a função \"head\" com o parâmetro \"1\", nos retorna o maior valor dessa filtragem."
   ],
   "metadata": {
    "collapsed": false
   },
   "id": "fb3335e640bc8208"
  },
  {
   "cell_type": "code",
   "execution_count": 23,
   "outputs": [
    {
     "data": {
      "text/plain": "Poluição sonora    24\nName: tipo, dtype: int64"
     },
     "execution_count": 23,
     "metadata": {},
     "output_type": "execute_result"
    }
   ],
   "source": [
    "df_chamados['tipo'].value_counts().head(1)"
   ],
   "metadata": {
    "collapsed": false,
    "ExecuteTime": {
     "end_time": "2024-02-20T00:02:56.374282200Z",
     "start_time": "2024-02-20T00:02:56.358778100Z"
    }
   },
   "id": "4b212097a89edc14"
  },
  {
   "cell_type": "markdown",
   "source": [
    "Resposta: O tipo de chamado com mais chamados abertos no dia 01/04/2023 foi Poluição Sonora, com 24 chamados abertos."
   ],
   "metadata": {
    "collapsed": false
   },
   "id": "a3e3b452ccbd4288"
  },
  {
   "cell_type": "markdown",
   "source": [
    "### 3. Quais os nomes dos 3 bairros que mais tiveram chamados abertos nesse dia?\n"
   ],
   "metadata": {
    "collapsed": false
   },
   "id": "ca30513e1e05e0e3"
  },
  {
   "cell_type": "markdown",
   "source": [
    "Para encontrarmos a resposta dessa questão, precisamos relacionar as tabelas de chamados e bairros, a fim de contarmos quais bairros possuem mais chamados abertos na data em questão. Assim, ao fazermos o \"merge\" dos dataframes \"df_chamados\" e \"df_bairros\", utilizando a coluna \"id_bairro\" presente em ambos, conseguimos um dataframe que contem os dados dos chamados abertos no dia 01/04/2023 com as informações referentes ao bairro do chamado. Logo, basta filtrar da mesma maneira mostrada na questão anterior, porém mudando o tipo para \"nome\", que é a coluna referente ao nome do bairro, e colocar o parâmentro da função \"head\" para \"3\", pegando assim os 3 bairros com mais chamados abertos no dia em questão.  "
   ],
   "metadata": {
    "collapsed": false
   },
   "id": "e60b82b0984e8790"
  },
  {
   "cell_type": "code",
   "execution_count": 28,
   "outputs": [],
   "source": [
    "df_chamados_bairro = df_chamados.merge(df_bairros, on=\"id_bairro\")"
   ],
   "metadata": {
    "collapsed": false,
    "ExecuteTime": {
     "start_time": "2024-02-20T00:20:38.141987Z"
    }
   },
   "id": "c39a492523e93a84"
  },
  {
   "cell_type": "code",
   "execution_count": 29,
   "outputs": [
    {
     "data": {
      "text/plain": "Engenho de Dentro    8\nLeblon               6\nCampo Grande         6\nName: nome, dtype: int64"
     },
     "execution_count": 29,
     "metadata": {},
     "output_type": "execute_result"
    }
   ],
   "source": [
    "df_chamados_bairro['nome'].value_counts().head(3)"
   ],
   "metadata": {
    "collapsed": false,
    "ExecuteTime": {
     "end_time": "2024-02-20T00:21:14.929611700Z",
     "start_time": "2024-02-20T00:21:14.922606500Z"
    }
   },
   "id": "c1c8a48df9e82b80"
  },
  {
   "cell_type": "markdown",
   "source": [
    "Respostas: Os 3 bairros com mais chamados abertos na data em questão foram: Engenho de Dentro, com 8 chamados; Leblon, com 6 chamados; e Campo Grande, também com 6 chamados."
   ],
   "metadata": {
    "collapsed": false
   },
   "id": "8bb49b769554f0a6"
  },
  {
   "cell_type": "markdown",
   "source": [
    "### 4. Qual o nome da subprefeitura com mais chamados abertos nesse dia?"
   ],
   "metadata": {
    "collapsed": false
   },
   "id": "c46375a7af7ce6bb"
  },
  {
   "cell_type": "markdown",
   "source": [
    "Para a resposta em questão, utilizaremos a mesma relação criada na resposta anterior, porém buscamos o nome da subprefeitura com mais chamados abertos no dia em questão, não os 3 bairros com mais chamados abertos nesse dia. Assim, basta mudarmos a filtragem da coluna \"nome\" para a coluna \"subprefeitura\", e mudarmos o parâmetro da função \"head\" para \"1\", conseguindo assim a subprefeitura com mais chamados abertos nesse dia."
   ],
   "metadata": {
    "collapsed": false
   },
   "id": "fcd6c9a7b29845e3"
  },
  {
   "cell_type": "code",
   "execution_count": 32,
   "outputs": [
    {
     "data": {
      "text/plain": "Zona Norte    25\nName: subprefeitura, dtype: int64"
     },
     "execution_count": 32,
     "metadata": {},
     "output_type": "execute_result"
    }
   ],
   "source": [
    "df_chamados_bairro['subprefeitura'].value_counts().head(1)"
   ],
   "metadata": {
    "collapsed": false,
    "ExecuteTime": {
     "end_time": "2024-02-20T00:30:12.790852600Z",
     "start_time": "2024-02-20T00:30:12.767820800Z"
    }
   },
   "id": "b109bfa13e8f9663"
  },
  {
   "cell_type": "markdown",
   "source": [
    "Resposta: A subprefeitura com mais chamados abertos nesse dia foi a Zona Norte, com 25 chamados."
   ],
   "metadata": {
    "collapsed": false
   },
   "id": "ffceac4c3032f1e2"
  },
  {
   "cell_type": "markdown",
   "source": [
    "###  5. Existe algum chamado aberto nesse dia que não foi associado a um bairro ou subprefeitura na tabela de bairros? Se sim, por que isso acontece?"
   ],
   "metadata": {
    "collapsed": false
   },
   "id": "8d11214dbb33a7f8"
  },
  {
   "cell_type": "markdown",
   "source": [
    "Para essa questão, é necessário apenas contar quais registros de chamados no dataframe \"df_chamados\" não possuem valor na coluna \"id_bairro\", visto que isso impossibilita-os de terem um bairro associado. Assim, precisamos apenas utilizar a função \"loc\", filtrando a coluna \"id_bairro\" com a função \"isna\", que retorna os registros com valor nulo na coluna em questão. A partir disto, podemos inferir o motivo do chamado não ter bairro associado analisando as suas colunas. "
   ],
   "metadata": {
    "collapsed": false
   },
   "id": "bba4bce27f4449ab"
  },
  {
   "cell_type": "code",
   "execution_count": 40,
   "outputs": [],
   "source": [
    "df_chamados_sem_bairro = df_chamados.loc[df_chamados['id_bairro'].isna()]"
   ],
   "metadata": {
    "collapsed": false,
    "ExecuteTime": {
     "end_time": "2024-02-20T00:50:45.554618300Z",
     "start_time": "2024-02-20T00:50:45.549504800Z"
    }
   },
   "id": "f24315299a2f08b9"
  },
  {
   "cell_type": "code",
   "execution_count": 41,
   "outputs": [
    {
     "data": {
      "text/plain": "  id_chamado         data_inicio            data_fim id_bairro  \\\n0   18516246 2023-04-01 00:55:38 2023-04-01 00:55:38      None   \n\n  id_territorialidade id_logradouro  numero_logradouro  \\\n0                None          None               <NA>   \n\n  id_unidade_organizacional  \\\n0                      1706   \n\n                         nome_unidade_organizacional  \\\n0  TR/SUBOP/CFT - Coordenadoria de Fiscalização e...   \n\n                id_unidade_organizacional_mae  ... tempo_prazo prazo_unidade  \\\n0  SMTR - Secretaria Municipal de Transportes  ...        <NA>             D   \n\n  prazo_tipo dentro_prazo   situacao          tipo_situacao  \\\n0          F     No prazo  Encerrado  Atendido parcialmente   \n\n  justificativa_status  reclamacoes  data_particao geometry  \n0                 None            0     2023-04-01     None  \n\n[1 rows x 32 columns]",
      "text/html": "<div>\n<style scoped>\n    .dataframe tbody tr th:only-of-type {\n        vertical-align: middle;\n    }\n\n    .dataframe tbody tr th {\n        vertical-align: top;\n    }\n\n    .dataframe thead th {\n        text-align: right;\n    }\n</style>\n<table border=\"1\" class=\"dataframe\">\n  <thead>\n    <tr style=\"text-align: right;\">\n      <th></th>\n      <th>id_chamado</th>\n      <th>data_inicio</th>\n      <th>data_fim</th>\n      <th>id_bairro</th>\n      <th>id_territorialidade</th>\n      <th>id_logradouro</th>\n      <th>numero_logradouro</th>\n      <th>id_unidade_organizacional</th>\n      <th>nome_unidade_organizacional</th>\n      <th>id_unidade_organizacional_mae</th>\n      <th>...</th>\n      <th>tempo_prazo</th>\n      <th>prazo_unidade</th>\n      <th>prazo_tipo</th>\n      <th>dentro_prazo</th>\n      <th>situacao</th>\n      <th>tipo_situacao</th>\n      <th>justificativa_status</th>\n      <th>reclamacoes</th>\n      <th>data_particao</th>\n      <th>geometry</th>\n    </tr>\n  </thead>\n  <tbody>\n    <tr>\n      <th>0</th>\n      <td>18516246</td>\n      <td>2023-04-01 00:55:38</td>\n      <td>2023-04-01 00:55:38</td>\n      <td>None</td>\n      <td>None</td>\n      <td>None</td>\n      <td>&lt;NA&gt;</td>\n      <td>1706</td>\n      <td>TR/SUBOP/CFT - Coordenadoria de Fiscalização e...</td>\n      <td>SMTR - Secretaria Municipal de Transportes</td>\n      <td>...</td>\n      <td>&lt;NA&gt;</td>\n      <td>D</td>\n      <td>F</td>\n      <td>No prazo</td>\n      <td>Encerrado</td>\n      <td>Atendido parcialmente</td>\n      <td>None</td>\n      <td>0</td>\n      <td>2023-04-01</td>\n      <td>None</td>\n    </tr>\n  </tbody>\n</table>\n<p>1 rows × 32 columns</p>\n</div>"
     },
     "execution_count": 41,
     "metadata": {},
     "output_type": "execute_result"
    }
   ],
   "source": [
    "df_chamados_sem_bairro"
   ],
   "metadata": {
    "collapsed": false,
    "ExecuteTime": {
     "end_time": "2024-02-20T00:50:50.956685700Z",
     "start_time": "2024-02-20T00:50:50.927177400Z"
    }
   },
   "id": "281a5529047e7dbb"
  },
  {
   "cell_type": "code",
   "execution_count": 43,
   "outputs": [
    {
     "data": {
      "text/plain": "  id_chamado id_bairro    tipo  \\\n0   18516246      None  Ônibus   \n\n                                             subtipo  \n0  Verificação de ar condicionado inoperante no ô...  ",
      "text/html": "<div>\n<style scoped>\n    .dataframe tbody tr th:only-of-type {\n        vertical-align: middle;\n    }\n\n    .dataframe tbody tr th {\n        vertical-align: top;\n    }\n\n    .dataframe thead th {\n        text-align: right;\n    }\n</style>\n<table border=\"1\" class=\"dataframe\">\n  <thead>\n    <tr style=\"text-align: right;\">\n      <th></th>\n      <th>id_chamado</th>\n      <th>id_bairro</th>\n      <th>tipo</th>\n      <th>subtipo</th>\n    </tr>\n  </thead>\n  <tbody>\n    <tr>\n      <th>0</th>\n      <td>18516246</td>\n      <td>None</td>\n      <td>Ônibus</td>\n      <td>Verificação de ar condicionado inoperante no ô...</td>\n    </tr>\n  </tbody>\n</table>\n</div>"
     },
     "execution_count": 43,
     "metadata": {},
     "output_type": "execute_result"
    }
   ],
   "source": [
    "df_chamados_sem_bairro[['id_chamado', 'id_bairro', 'tipo', 'subtipo']]"
   ],
   "metadata": {
    "collapsed": false,
    "ExecuteTime": {
     "end_time": "2024-02-20T00:51:39.296693300Z",
     "start_time": "2024-02-20T00:51:39.279695Z"
    }
   },
   "id": "53fd21a1d6fc0df4"
  },
  {
   "cell_type": "markdown",
   "source": [
    "Resposta: Existe 1 chamado que não possui id_bairro (id_chamado 18516246), logo, não possui bairro associado. Isso se deve pelo fato de ser um chamado do tipo \"Ônibus\", sendo assim, não possui necessariamente uma localização fixa para o chamado.\n"
   ],
   "metadata": {
    "collapsed": false
   },
   "id": "12f4332eed912e29"
  },
  {
   "cell_type": "markdown",
   "source": [
    "## Carregando dataframes para as questões de 6 a 10"
   ],
   "metadata": {
    "collapsed": false
   },
   "id": "90895bde62105ecf"
  },
  {
   "cell_type": "code",
   "execution_count": 45,
   "outputs": [
    {
     "name": "stderr",
     "output_type": "stream",
     "text": [
      "Downloading: 100%|██████████| 90372/90372 [00:34<00:00, 2588.62rows/s]\n"
     ]
    }
   ],
   "source": [
    "#Carrega a tabela de Chamados abertos com o subtipo \"Perturbação do sossego\" em um dataframe\n",
    "query_chamados = \"\"\"\n",
    "    SELECT * FROM datario.administracao_servicos_publicos.chamado_1746\n",
    "    WHERE subtipo = 'Perturbação do sossego';\n",
    "\"\"\"\n",
    "\n",
    "df_chamados = generate_df(query_chamados)"
   ],
   "metadata": {
    "collapsed": false,
    "ExecuteTime": {
     "end_time": "2024-02-20T01:01:46.326673900Z",
     "start_time": "2024-02-20T01:01:06.147116100Z"
    }
   },
   "id": "a2f2effe50445023"
  },
  {
   "cell_type": "code",
   "execution_count": 46,
   "outputs": [
    {
     "name": "stderr",
     "output_type": "stream",
     "text": [
      "Downloading: 100%|██████████| 4/4 [00:00<00:00, 11.47rows/s]\n"
     ]
    }
   ],
   "source": [
    "#Carrega a tabela de Eventos em um dataframe\n",
    "query_eventos = \"\"\"\n",
    "    SELECT * FROM datario.turismo_fluxo_visitantes.rede_hoteleira_ocupacao_eventos;\n",
    "\"\"\"\n",
    "\n",
    "df_eventos = generate_df(query_eventos)"
   ],
   "metadata": {
    "collapsed": false,
    "ExecuteTime": {
     "end_time": "2024-02-20T01:03:08.036881900Z",
     "start_time": "2024-02-20T01:03:05.663212300Z"
    }
   },
   "id": "19648ea27b02e529"
  },
  {
   "cell_type": "markdown",
   "source": [
    "## Questões 6 a 10"
   ],
   "metadata": {
    "collapsed": false
   },
   "id": "5372a98ee6ee2c8"
  },
  {
   "cell_type": "markdown",
   "source": [
    "Como o dataframe \"df_chamados\" já é fruto de uma consulta da tabela de chamados filtrada pelo subtipo desejado em todas as questões (Perturbação do sossego), não será necessário aplicar uma filtragem por este subtipo em cada etapa."
   ],
   "metadata": {
    "collapsed": false
   },
   "id": "e3a8a1216df3ba8d"
  },
  {
   "cell_type": "markdown",
   "source": [
    "###  6. Quantos chamados com o subtipo \"Perturbação do sossego\" foram abertos desde 01/01/2022 até 31/12/2023 (incluindo extremidades)?"
   ],
   "metadata": {
    "collapsed": false
   },
   "id": "8e9144526ffce58b"
  },
  {
   "cell_type": "markdown",
   "source": [
    "Para analisarmos quantos chamados foram feitos com o subtipo desejado no intervalo de datas pedido, precisamos apenas filtrar o \"df_chamados\" pelo intervalo de datas escolhido. Assim, criamos duas variáveis para armazenar a data inicial e a data final do intervalo e filtramos o \"df_chamados\" pelo intervalo utilizando a função \"loc\". O filtro foi feito encontrando cada registro do dataframe que possuia a coluna 'data_inicio' (pegando apenas a data, e não o horário) maior ou igual à variável 'data_inicial' e menor ou igual à variável 'data_final'.\n",
    "\n",
    "Por fim, foi criado um dataframe chamado \"df_chamados_filtro_data\" para armazenar esta filtragem por data, visto que será utilizada novamente posteriomente, e contamos os seus registros para obtermos a quantidade de chamados pedida."
   ],
   "metadata": {
    "collapsed": false
   },
   "id": "429023305646ccc5"
  },
  {
   "cell_type": "code",
   "execution_count": 52,
   "outputs": [],
   "source": [
    "data_inicial = datetime(2022, 1, 1).date()\n",
    "data_final = datetime(2023, 12, 31).date()"
   ],
   "metadata": {
    "collapsed": false,
    "ExecuteTime": {
     "end_time": "2024-02-20T01:15:16.937273500Z",
     "start_time": "2024-02-20T01:15:16.920260700Z"
    }
   },
   "id": "961e4453151be0a6"
  },
  {
   "cell_type": "code",
   "execution_count": 54,
   "outputs": [],
   "source": [
    "df_chamados_filtro_data = df_chamados.loc[(df_chamados['data_inicio'].dt.date >= data_inicial) & (df_chamados['data_inicio'].dt.date <= data_final)]"
   ],
   "metadata": {
    "collapsed": false,
    "ExecuteTime": {
     "end_time": "2024-02-20T01:16:45.139426200Z",
     "start_time": "2024-02-20T01:16:45.085914Z"
    }
   },
   "id": "e3ea5812008e32c3"
  },
  {
   "cell_type": "code",
   "execution_count": 56,
   "outputs": [
    {
     "data": {
      "text/plain": "42408"
     },
     "execution_count": 56,
     "metadata": {},
     "output_type": "execute_result"
    }
   ],
   "source": [
    "len(df_chamados_filtro_data)"
   ],
   "metadata": {
    "collapsed": false,
    "ExecuteTime": {
     "end_time": "2024-02-20T01:17:08.168783900Z",
     "start_time": "2024-02-20T01:17:08.151760600Z"
    }
   },
   "id": "25fe2a2f57822fc7"
  },
  {
   "cell_type": "markdown",
   "source": [
    "Resposta: 42408 chamados."
   ],
   "metadata": {
    "collapsed": false
   },
   "id": "c607926832e6c9f2"
  },
  {
   "cell_type": "markdown",
   "source": [
    "###  7. Selecione os chamados com esse subtipo que foram abertos durante os eventos contidos na tabela de eventos (Reveillon, Carnaval e Rock in Rio)."
   ],
   "metadata": {
    "collapsed": false
   },
   "id": "1fc89e61859935af"
  },
  {
   "cell_type": "markdown",
   "source": [
    "Para encontrarmos a resposta dessa questão, precisamos relacionar as tabelas de chamados e eventos, a fim de contarmos quantos chamados foram abertos durante a duração dos eventos em questão. Assim, precisamos fazer o 'merge' dos dataframes 'df_chamados' e 'df_eventos', porém, como queremos relacionar uma coluna do dataframe 'df_chamados' ('data_inicio'), com mais de uma coluna do dataframe 'df_eventos' (um intervalo proposto pelas colunas 'data_inicial' e 'data_final'), não conseguirmos fazer um 'merge' diretamente por essas colunas. Logo, precisamos fazer um produto cartesiano entre os dois dataframes, utilizando o tipo de 'merge' chamado 'cross', retornando assim todas as combinações de linhas entre ambos dataframes. Por fim, basta filtrar o resultado da operção pelas datas desejadas, utilizando o mesmo método da questão anterior."
   ],
   "metadata": {
    "collapsed": false
   },
   "id": "c8b82273fabf08f9"
  },
  {
   "cell_type": "code",
   "execution_count": 66,
   "outputs": [],
   "source": [
    "df_chamados_cross = df_chamados.merge(df_eventos, how='cross')\n",
    "\n",
    "df_chamados_evento = df_chamados_cross.loc[(df_chamados_cross['data_inicio'].dt.date >= df_chamados_cross['data_inicial']) & (df_chamados_cross['data_inicio'].dt.date <= df_chamados_cross['data_final'])]"
   ],
   "metadata": {
    "collapsed": false,
    "ExecuteTime": {
     "end_time": "2024-02-20T01:57:55.303804Z",
     "start_time": "2024-02-20T01:57:53.185821600Z"
    }
   },
   "id": "5dfb1680558fcc9c"
  },
  {
   "cell_type": "code",
   "execution_count": 67,
   "outputs": [
    {
     "data": {
      "text/plain": "       id_chamado         data_inicio     evento\n160727   18079637 2023-01-01 04:51:20  Reveillon\n161111   18079649 2023-01-01 06:11:34  Reveillon\n161115   18079733 2023-01-01 10:14:50  Reveillon\n161119   18079648 2023-01-01 06:10:24  Reveillon\n161123   18080330 2023-01-01 21:43:40  Reveillon\n...           ...                 ...        ...\n348399   18078185 2022-12-30 20:47:16  Reveillon\n349215   18079523 2022-12-31 20:52:48  Reveillon\n349219   18077935 2022-12-30 18:08:52  Reveillon\n349223   18079445 2022-12-31 19:02:01  Reveillon\n349255   18079473 2022-12-31 19:24:31  Reveillon\n\n[1212 rows x 3 columns]",
      "text/html": "<div>\n<style scoped>\n    .dataframe tbody tr th:only-of-type {\n        vertical-align: middle;\n    }\n\n    .dataframe tbody tr th {\n        vertical-align: top;\n    }\n\n    .dataframe thead th {\n        text-align: right;\n    }\n</style>\n<table border=\"1\" class=\"dataframe\">\n  <thead>\n    <tr style=\"text-align: right;\">\n      <th></th>\n      <th>id_chamado</th>\n      <th>data_inicio</th>\n      <th>evento</th>\n    </tr>\n  </thead>\n  <tbody>\n    <tr>\n      <th>160727</th>\n      <td>18079637</td>\n      <td>2023-01-01 04:51:20</td>\n      <td>Reveillon</td>\n    </tr>\n    <tr>\n      <th>161111</th>\n      <td>18079649</td>\n      <td>2023-01-01 06:11:34</td>\n      <td>Reveillon</td>\n    </tr>\n    <tr>\n      <th>161115</th>\n      <td>18079733</td>\n      <td>2023-01-01 10:14:50</td>\n      <td>Reveillon</td>\n    </tr>\n    <tr>\n      <th>161119</th>\n      <td>18079648</td>\n      <td>2023-01-01 06:10:24</td>\n      <td>Reveillon</td>\n    </tr>\n    <tr>\n      <th>161123</th>\n      <td>18080330</td>\n      <td>2023-01-01 21:43:40</td>\n      <td>Reveillon</td>\n    </tr>\n    <tr>\n      <th>...</th>\n      <td>...</td>\n      <td>...</td>\n      <td>...</td>\n    </tr>\n    <tr>\n      <th>348399</th>\n      <td>18078185</td>\n      <td>2022-12-30 20:47:16</td>\n      <td>Reveillon</td>\n    </tr>\n    <tr>\n      <th>349215</th>\n      <td>18079523</td>\n      <td>2022-12-31 20:52:48</td>\n      <td>Reveillon</td>\n    </tr>\n    <tr>\n      <th>349219</th>\n      <td>18077935</td>\n      <td>2022-12-30 18:08:52</td>\n      <td>Reveillon</td>\n    </tr>\n    <tr>\n      <th>349223</th>\n      <td>18079445</td>\n      <td>2022-12-31 19:02:01</td>\n      <td>Reveillon</td>\n    </tr>\n    <tr>\n      <th>349255</th>\n      <td>18079473</td>\n      <td>2022-12-31 19:24:31</td>\n      <td>Reveillon</td>\n    </tr>\n  </tbody>\n</table>\n<p>1212 rows × 3 columns</p>\n</div>"
     },
     "execution_count": 67,
     "metadata": {},
     "output_type": "execute_result"
    }
   ],
   "source": [
    "df_chamados_evento[['id_chamado', 'data_inicio', 'evento']]"
   ],
   "metadata": {
    "collapsed": false,
    "ExecuteTime": {
     "end_time": "2024-02-20T01:57:58.295991100Z",
     "start_time": "2024-02-20T01:57:58.271472800Z"
    }
   },
   "id": "1c38c62d73913c1d"
  },
  {
   "cell_type": "code",
   "execution_count": 68,
   "outputs": [
    {
     "data": {
      "text/plain": "1212"
     },
     "execution_count": 68,
     "metadata": {},
     "output_type": "execute_result"
    }
   ],
   "source": [
    "len(df_chamados_evento)"
   ],
   "metadata": {
    "collapsed": false,
    "ExecuteTime": {
     "end_time": "2024-02-20T02:07:43.490506400Z",
     "start_time": "2024-02-20T02:07:43.476994700Z"
    }
   },
   "id": "87baa1e66458a107"
  },
  {
   "cell_type": "markdown",
   "source": [
    "Resposta: 1212 chamados."
   ],
   "metadata": {
    "collapsed": false
   },
   "id": "5ab4da96fa37626b"
  }
 ],
 "metadata": {
  "kernelspec": {
   "display_name": "Python 3",
   "language": "python",
   "name": "python3"
  },
  "language_info": {
   "codemirror_mode": {
    "name": "ipython",
    "version": 2
   },
   "file_extension": ".py",
   "mimetype": "text/x-python",
   "name": "python",
   "nbconvert_exporter": "python",
   "pygments_lexer": "ipython2",
   "version": "2.7.6"
  }
 },
 "nbformat": 4,
 "nbformat_minor": 5
}
